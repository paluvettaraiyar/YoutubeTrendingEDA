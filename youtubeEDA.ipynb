{
 "cells": [
  {
   "cell_type": "code",
   "execution_count": 3,
   "id": "940a8735",
   "metadata": {},
   "outputs": [],
   "source": [
    "import numpy as np\n",
    "import pandas as pd\n",
    "from matplotlib import pyplot as pt\n",
    "import seaborn as sb"
   ]
  },
  {
   "cell_type": "code",
   "execution_count": 4,
   "id": "3e2ed43e",
   "metadata": {},
   "outputs": [],
   "source": [
    "df = pd.read_csv('train.csv')"
   ]
  },
  {
   "cell_type": "code",
   "execution_count": 5,
   "id": "68a762a7",
   "metadata": {},
   "outputs": [
    {
     "data": {
      "text/html": [
       "<div>\n",
       "<style scoped>\n",
       "    .dataframe tbody tr th:only-of-type {\n",
       "        vertical-align: middle;\n",
       "    }\n",
       "\n",
       "    .dataframe tbody tr th {\n",
       "        vertical-align: top;\n",
       "    }\n",
       "\n",
       "    .dataframe thead th {\n",
       "        text-align: right;\n",
       "    }\n",
       "</style>\n",
       "<table border=\"1\" class=\"dataframe\">\n",
       "  <thead>\n",
       "    <tr style=\"text-align: right;\">\n",
       "      <th></th>\n",
       "      <th>Unnamed: 0</th>\n",
       "      <th>channelId</th>\n",
       "      <th>channelTitle</th>\n",
       "      <th>videoId</th>\n",
       "      <th>publishedAt</th>\n",
       "      <th>videoTitle</th>\n",
       "      <th>videoDescription</th>\n",
       "      <th>videoCategoryId</th>\n",
       "      <th>videoCategoryLabel</th>\n",
       "      <th>duration</th>\n",
       "      <th>durationSec</th>\n",
       "      <th>definition</th>\n",
       "      <th>caption</th>\n",
       "      <th>viewCount</th>\n",
       "      <th>likeCount</th>\n",
       "      <th>dislikeCount</th>\n",
       "      <th>commentCount</th>\n",
       "    </tr>\n",
       "  </thead>\n",
       "  <tbody>\n",
       "    <tr>\n",
       "      <th>0</th>\n",
       "      <td>0</td>\n",
       "      <td>UCU1_l0ZJyTK_7HZZ3Ruw8Dg</td>\n",
       "      <td>MAPS</td>\n",
       "      <td>pTnk3ziVVRM</td>\n",
       "      <td>2014-01-10T01:24:57.000Z</td>\n",
       "      <td>Psychedelic Horizons Beyond Psychotherapy Work...</td>\n",
       "      <td>Watch the full workshop at http://psychedelics...</td>\n",
       "      <td>29</td>\n",
       "      <td>Nonprofits &amp; Activism</td>\n",
       "      <td>PT1H19M40S</td>\n",
       "      <td>4780</td>\n",
       "      <td>hd</td>\n",
       "      <td>False</td>\n",
       "      <td>1512</td>\n",
       "      <td>8.0</td>\n",
       "      <td>0.0</td>\n",
       "      <td>1.0</td>\n",
       "    </tr>\n",
       "    <tr>\n",
       "      <th>1</th>\n",
       "      <td>1</td>\n",
       "      <td>UCLuO2lUqHrPIIpx0hFenV2g</td>\n",
       "      <td>Tink Tink Club</td>\n",
       "      <td>cuJjSeHZIrg</td>\n",
       "      <td>2015-06-18T16:56:04.000Z</td>\n",
       "      <td>Episode 35 - Dr. James Fadiman</td>\n",
       "      <td>Dr. James Fadiman is the father of modern psyc...</td>\n",
       "      <td>22</td>\n",
       "      <td>People &amp; Blogs</td>\n",
       "      <td>PT1H12M34S</td>\n",
       "      <td>4354</td>\n",
       "      <td>sd</td>\n",
       "      <td>False</td>\n",
       "      <td>881</td>\n",
       "      <td>14.0</td>\n",
       "      <td>0.0</td>\n",
       "      <td>3.0</td>\n",
       "    </tr>\n",
       "    <tr>\n",
       "      <th>2</th>\n",
       "      <td>2</td>\n",
       "      <td>UCihqrkaOgVMfLNo2W1hSliA</td>\n",
       "      <td>Podcast Bunk</td>\n",
       "      <td>IuyuZfWtGgg</td>\n",
       "      <td>2016-05-01T05:33:13.000Z</td>\n",
       "      <td>#325 Microdosing from The Adam and Dr Drew Sho...</td>\n",
       "      <td>Adam and Dr. Drew are solo today and they open...</td>\n",
       "      <td>22</td>\n",
       "      <td>People &amp; Blogs</td>\n",
       "      <td>PT50M40S</td>\n",
       "      <td>3040</td>\n",
       "      <td>sd</td>\n",
       "      <td>False</td>\n",
       "      <td>67</td>\n",
       "      <td>0.0</td>\n",
       "      <td>1.0</td>\n",
       "      <td>3.0</td>\n",
       "    </tr>\n",
       "    <tr>\n",
       "      <th>3</th>\n",
       "      <td>3</td>\n",
       "      <td>UCgbWWPn3VYYzxjffZbfj9GQ</td>\n",
       "      <td>Alan Springwind</td>\n",
       "      <td>cng_ZhQf8iY</td>\n",
       "      <td>2016-01-25T04:48:22.000Z</td>\n",
       "      <td>Microdosing Away The Same Old Blues</td>\n",
       "      <td>Source: https://www.spreaker.com/user/springwi...</td>\n",
       "      <td>24</td>\n",
       "      <td>Entertainment</td>\n",
       "      <td>PT32M21S</td>\n",
       "      <td>1941</td>\n",
       "      <td>hd</td>\n",
       "      <td>False</td>\n",
       "      <td>4</td>\n",
       "      <td>0.0</td>\n",
       "      <td>0.0</td>\n",
       "      <td>0.0</td>\n",
       "    </tr>\n",
       "    <tr>\n",
       "      <th>4</th>\n",
       "      <td>4</td>\n",
       "      <td>UCFmLi6X1mojkFZOFngNR9tQ</td>\n",
       "      <td>Drug Education Agency</td>\n",
       "      <td>OpQIQEx7J5A</td>\n",
       "      <td>2014-08-15T10:53:58.000Z</td>\n",
       "      <td>Erschossener Kiffer / Drogen in Mikro-Dosierun...</td>\n",
       "      <td>Von erschossenen \"Dealern\", von demonstrierend...</td>\n",
       "      <td>24</td>\n",
       "      <td>Entertainment</td>\n",
       "      <td>PT26M32S</td>\n",
       "      <td>1592</td>\n",
       "      <td>hd</td>\n",
       "      <td>False</td>\n",
       "      <td>5465</td>\n",
       "      <td>121.0</td>\n",
       "      <td>6.0</td>\n",
       "      <td>25.0</td>\n",
       "    </tr>\n",
       "    <tr>\n",
       "      <th>...</th>\n",
       "      <td>...</td>\n",
       "      <td>...</td>\n",
       "      <td>...</td>\n",
       "      <td>...</td>\n",
       "      <td>...</td>\n",
       "      <td>...</td>\n",
       "      <td>...</td>\n",
       "      <td>...</td>\n",
       "      <td>...</td>\n",
       "      <td>...</td>\n",
       "      <td>...</td>\n",
       "      <td>...</td>\n",
       "      <td>...</td>\n",
       "      <td>...</td>\n",
       "      <td>...</td>\n",
       "      <td>...</td>\n",
       "      <td>...</td>\n",
       "    </tr>\n",
       "    <tr>\n",
       "      <th>110</th>\n",
       "      <td>110</td>\n",
       "      <td>UCjnXuO6mfE0-czvcbOYnpbQ</td>\n",
       "      <td>Ayahuasca Magic</td>\n",
       "      <td>j9HFlDff2XY</td>\n",
       "      <td>2016-03-25T04:58:34.000Z</td>\n",
       "      <td>Time differentials: mystery wisdom and microdo...</td>\n",
       "      <td>The lectures I talk about are free (some of th...</td>\n",
       "      <td>24</td>\n",
       "      <td>Entertainment</td>\n",
       "      <td>PT26M</td>\n",
       "      <td>26</td>\n",
       "      <td>hd</td>\n",
       "      <td>False</td>\n",
       "      <td>304</td>\n",
       "      <td>6.0</td>\n",
       "      <td>0.0</td>\n",
       "      <td>22.0</td>\n",
       "    </tr>\n",
       "    <tr>\n",
       "      <th>111</th>\n",
       "      <td>111</td>\n",
       "      <td>UC0dsjSDsLZ5hbmoNjvsHJsQ</td>\n",
       "      <td>fluidresearch</td>\n",
       "      <td>lOGAkCtT4wk</td>\n",
       "      <td>2010-08-20T14:46:56.000Z</td>\n",
       "      <td>Fluid filling with exact precision dosing by F...</td>\n",
       "      <td>See how the industry leaders in Precision micr...</td>\n",
       "      <td>26</td>\n",
       "      <td>Howto &amp; Style</td>\n",
       "      <td>PT18S</td>\n",
       "      <td>18</td>\n",
       "      <td>sd</td>\n",
       "      <td>False</td>\n",
       "      <td>294</td>\n",
       "      <td>0.0</td>\n",
       "      <td>0.0</td>\n",
       "      <td>0.0</td>\n",
       "    </tr>\n",
       "    <tr>\n",
       "      <th>112</th>\n",
       "      <td>112</td>\n",
       "      <td>UCmNZB3-zCyMuHCOTraws0dg</td>\n",
       "      <td>Helix Steel Victoria</td>\n",
       "      <td>sTNaGjt6564</td>\n",
       "      <td>2014-05-19T12:14:36.000Z</td>\n",
       "      <td>Accurate dosing of Helix Twisted Steel Micro R...</td>\n",
       "      <td>© Copyright --- Look at the steady rain of Hel...</td>\n",
       "      <td>28</td>\n",
       "      <td>Science &amp; Technology</td>\n",
       "      <td>PT11S</td>\n",
       "      <td>11</td>\n",
       "      <td>hd</td>\n",
       "      <td>False</td>\n",
       "      <td>463</td>\n",
       "      <td>0.0</td>\n",
       "      <td>0.0</td>\n",
       "      <td>0.0</td>\n",
       "    </tr>\n",
       "    <tr>\n",
       "      <th>113</th>\n",
       "      <td>113</td>\n",
       "      <td>UC281yIVp-U8Ijg4KUVRgDRA</td>\n",
       "      <td>Osiron X</td>\n",
       "      <td>fMlQoGINGHo</td>\n",
       "      <td>2016-04-15T19:31:48.000Z</td>\n",
       "      <td>Psilocybin Mushroom Micro-Dosing</td>\n",
       "      <td>When too much time lapses between trips, the e...</td>\n",
       "      <td>24</td>\n",
       "      <td>Entertainment</td>\n",
       "      <td>PT11M</td>\n",
       "      <td>11</td>\n",
       "      <td>sd</td>\n",
       "      <td>False</td>\n",
       "      <td>341</td>\n",
       "      <td>11.0</td>\n",
       "      <td>1.0</td>\n",
       "      <td>10.0</td>\n",
       "    </tr>\n",
       "    <tr>\n",
       "      <th>114</th>\n",
       "      <td>114</td>\n",
       "      <td>UCH4ezCqRXHQhsETfl0dainA</td>\n",
       "      <td>FabFormIndustries</td>\n",
       "      <td>ODX4tzCWhhU</td>\n",
       "      <td>2015-08-19T18:25:20.000Z</td>\n",
       "      <td>Dosing Helix Micro Rebar</td>\n",
       "      <td>Coquitlam concrete goes into detail how they d...</td>\n",
       "      <td>27</td>\n",
       "      <td>Education</td>\n",
       "      <td>PT1M</td>\n",
       "      <td>1</td>\n",
       "      <td>hd</td>\n",
       "      <td>False</td>\n",
       "      <td>345</td>\n",
       "      <td>4.0</td>\n",
       "      <td>0.0</td>\n",
       "      <td>0.0</td>\n",
       "    </tr>\n",
       "  </tbody>\n",
       "</table>\n",
       "<p>115 rows × 17 columns</p>\n",
       "</div>"
      ],
      "text/plain": [
       "     Unnamed: 0                 channelId           channelTitle      videoId  \\\n",
       "0             0  UCU1_l0ZJyTK_7HZZ3Ruw8Dg                   MAPS  pTnk3ziVVRM   \n",
       "1             1  UCLuO2lUqHrPIIpx0hFenV2g         Tink Tink Club  cuJjSeHZIrg   \n",
       "2             2  UCihqrkaOgVMfLNo2W1hSliA           Podcast Bunk  IuyuZfWtGgg   \n",
       "3             3  UCgbWWPn3VYYzxjffZbfj9GQ        Alan Springwind  cng_ZhQf8iY   \n",
       "4             4  UCFmLi6X1mojkFZOFngNR9tQ  Drug Education Agency  OpQIQEx7J5A   \n",
       "..          ...                       ...                    ...          ...   \n",
       "110         110  UCjnXuO6mfE0-czvcbOYnpbQ        Ayahuasca Magic  j9HFlDff2XY   \n",
       "111         111  UC0dsjSDsLZ5hbmoNjvsHJsQ          fluidresearch  lOGAkCtT4wk   \n",
       "112         112  UCmNZB3-zCyMuHCOTraws0dg   Helix Steel Victoria  sTNaGjt6564   \n",
       "113         113  UC281yIVp-U8Ijg4KUVRgDRA               Osiron X  fMlQoGINGHo   \n",
       "114         114  UCH4ezCqRXHQhsETfl0dainA      FabFormIndustries  ODX4tzCWhhU   \n",
       "\n",
       "                  publishedAt  \\\n",
       "0    2014-01-10T01:24:57.000Z   \n",
       "1    2015-06-18T16:56:04.000Z   \n",
       "2    2016-05-01T05:33:13.000Z   \n",
       "3    2016-01-25T04:48:22.000Z   \n",
       "4    2014-08-15T10:53:58.000Z   \n",
       "..                        ...   \n",
       "110  2016-03-25T04:58:34.000Z   \n",
       "111  2010-08-20T14:46:56.000Z   \n",
       "112  2014-05-19T12:14:36.000Z   \n",
       "113  2016-04-15T19:31:48.000Z   \n",
       "114  2015-08-19T18:25:20.000Z   \n",
       "\n",
       "                                            videoTitle  \\\n",
       "0    Psychedelic Horizons Beyond Psychotherapy Work...   \n",
       "1                       Episode 35 - Dr. James Fadiman   \n",
       "2    #325 Microdosing from The Adam and Dr Drew Sho...   \n",
       "3                  Microdosing Away The Same Old Blues   \n",
       "4    Erschossener Kiffer / Drogen in Mikro-Dosierun...   \n",
       "..                                                 ...   \n",
       "110  Time differentials: mystery wisdom and microdo...   \n",
       "111  Fluid filling with exact precision dosing by F...   \n",
       "112  Accurate dosing of Helix Twisted Steel Micro R...   \n",
       "113                   Psilocybin Mushroom Micro-Dosing   \n",
       "114                           Dosing Helix Micro Rebar   \n",
       "\n",
       "                                      videoDescription  videoCategoryId  \\\n",
       "0    Watch the full workshop at http://psychedelics...               29   \n",
       "1    Dr. James Fadiman is the father of modern psyc...               22   \n",
       "2    Adam and Dr. Drew are solo today and they open...               22   \n",
       "3    Source: https://www.spreaker.com/user/springwi...               24   \n",
       "4    Von erschossenen \"Dealern\", von demonstrierend...               24   \n",
       "..                                                 ...              ...   \n",
       "110  The lectures I talk about are free (some of th...               24   \n",
       "111  See how the industry leaders in Precision micr...               26   \n",
       "112  © Copyright --- Look at the steady rain of Hel...               28   \n",
       "113  When too much time lapses between trips, the e...               24   \n",
       "114  Coquitlam concrete goes into detail how they d...               27   \n",
       "\n",
       "        videoCategoryLabel    duration  durationSec definition  caption  \\\n",
       "0    Nonprofits & Activism  PT1H19M40S         4780         hd    False   \n",
       "1           People & Blogs  PT1H12M34S         4354         sd    False   \n",
       "2           People & Blogs    PT50M40S         3040         sd    False   \n",
       "3            Entertainment    PT32M21S         1941         hd    False   \n",
       "4            Entertainment    PT26M32S         1592         hd    False   \n",
       "..                     ...         ...          ...        ...      ...   \n",
       "110          Entertainment       PT26M           26         hd    False   \n",
       "111          Howto & Style       PT18S           18         sd    False   \n",
       "112   Science & Technology       PT11S           11         hd    False   \n",
       "113          Entertainment       PT11M           11         sd    False   \n",
       "114              Education        PT1M            1         hd    False   \n",
       "\n",
       "     viewCount  likeCount  dislikeCount  commentCount  \n",
       "0         1512        8.0           0.0           1.0  \n",
       "1          881       14.0           0.0           3.0  \n",
       "2           67        0.0           1.0           3.0  \n",
       "3            4        0.0           0.0           0.0  \n",
       "4         5465      121.0           6.0          25.0  \n",
       "..         ...        ...           ...           ...  \n",
       "110        304        6.0           0.0          22.0  \n",
       "111        294        0.0           0.0           0.0  \n",
       "112        463        0.0           0.0           0.0  \n",
       "113        341       11.0           1.0          10.0  \n",
       "114        345        4.0           0.0           0.0  \n",
       "\n",
       "[115 rows x 17 columns]"
      ]
     },
     "execution_count": 5,
     "metadata": {},
     "output_type": "execute_result"
    }
   ],
   "source": [
    "df"
   ]
  },
  {
   "cell_type": "code",
   "execution_count": 4,
   "id": "37a33a20",
   "metadata": {},
   "outputs": [
    {
     "name": "stdout",
     "output_type": "stream",
     "text": [
      "<class 'pandas.core.frame.DataFrame'>\n",
      "RangeIndex: 115 entries, 0 to 114\n",
      "Data columns (total 17 columns):\n",
      " #   Column              Non-Null Count  Dtype  \n",
      "---  ------              --------------  -----  \n",
      " 0   Unnamed: 0          115 non-null    int64  \n",
      " 1   channelId           115 non-null    object \n",
      " 2   channelTitle        115 non-null    object \n",
      " 3   videoId             115 non-null    object \n",
      " 4   publishedAt         115 non-null    object \n",
      " 5   videoTitle          115 non-null    object \n",
      " 6   videoDescription    109 non-null    object \n",
      " 7   videoCategoryId     115 non-null    int64  \n",
      " 8   videoCategoryLabel  115 non-null    object \n",
      " 9   duration            115 non-null    object \n",
      " 10  durationSec         115 non-null    int64  \n",
      " 11  definition          115 non-null    object \n",
      " 12  caption             115 non-null    bool   \n",
      " 13  viewCount           115 non-null    int64  \n",
      " 14  likeCount           111 non-null    float64\n",
      " 15  dislikeCount        111 non-null    float64\n",
      " 16  commentCount        113 non-null    float64\n",
      "dtypes: bool(1), float64(3), int64(4), object(9)\n",
      "memory usage: 14.6+ KB\n"
     ]
    }
   ],
   "source": [
    "df.info()"
   ]
  },
  {
   "cell_type": "code",
   "execution_count": 9,
   "id": "d47232c4",
   "metadata": {},
   "outputs": [
    {
     "data": {
      "text/plain": [
       "81"
      ]
     },
     "execution_count": 9,
     "metadata": {},
     "output_type": "execute_result"
    }
   ],
   "source": [
    "len(df['channelTitle'].unique())"
   ]
  },
  {
   "cell_type": "code",
   "execution_count": 19,
   "id": "ec109c61",
   "metadata": {},
   "outputs": [
    {
     "data": {
      "text/html": [
       "<div>\n",
       "<style scoped>\n",
       "    .dataframe tbody tr th:only-of-type {\n",
       "        vertical-align: middle;\n",
       "    }\n",
       "\n",
       "    .dataframe tbody tr th {\n",
       "        vertical-align: top;\n",
       "    }\n",
       "\n",
       "    .dataframe thead th {\n",
       "        text-align: right;\n",
       "    }\n",
       "</style>\n",
       "<table border=\"1\" class=\"dataframe\">\n",
       "  <thead>\n",
       "    <tr style=\"text-align: right;\">\n",
       "      <th></th>\n",
       "      <th>Unnamed: 0</th>\n",
       "      <th>channelId</th>\n",
       "      <th>channelTitle</th>\n",
       "      <th>videoId</th>\n",
       "      <th>publishedAt</th>\n",
       "      <th>videoTitle</th>\n",
       "      <th>videoDescription</th>\n",
       "      <th>videoCategoryId</th>\n",
       "      <th>videoCategoryLabel</th>\n",
       "      <th>duration</th>\n",
       "      <th>durationSec</th>\n",
       "      <th>definition</th>\n",
       "      <th>caption</th>\n",
       "      <th>viewCount</th>\n",
       "      <th>likeCount</th>\n",
       "      <th>dislikeCount</th>\n",
       "      <th>commentCount</th>\n",
       "    </tr>\n",
       "  </thead>\n",
       "  <tbody>\n",
       "    <tr>\n",
       "      <th>1</th>\n",
       "      <td>1</td>\n",
       "      <td>UCLuO2lUqHrPIIpx0hFenV2g</td>\n",
       "      <td>Tink Tink Club</td>\n",
       "      <td>cuJjSeHZIrg</td>\n",
       "      <td>2015-06-18T16:56:04.000Z</td>\n",
       "      <td>Episode 35 - Dr. James Fadiman</td>\n",
       "      <td>Dr. James Fadiman is the father of modern psyc...</td>\n",
       "      <td>22</td>\n",
       "      <td>People &amp; Blogs</td>\n",
       "      <td>PT1H12M34S</td>\n",
       "      <td>4354</td>\n",
       "      <td>sd</td>\n",
       "      <td>False</td>\n",
       "      <td>881</td>\n",
       "      <td>14.0</td>\n",
       "      <td>0.0</td>\n",
       "      <td>3.0</td>\n",
       "    </tr>\n",
       "  </tbody>\n",
       "</table>\n",
       "</div>"
      ],
      "text/plain": [
       "   Unnamed: 0                 channelId    channelTitle      videoId  \\\n",
       "1           1  UCLuO2lUqHrPIIpx0hFenV2g  Tink Tink Club  cuJjSeHZIrg   \n",
       "\n",
       "                publishedAt                      videoTitle  \\\n",
       "1  2015-06-18T16:56:04.000Z  Episode 35 - Dr. James Fadiman   \n",
       "\n",
       "                                    videoDescription  videoCategoryId  \\\n",
       "1  Dr. James Fadiman is the father of modern psyc...               22   \n",
       "\n",
       "  videoCategoryLabel    duration  durationSec definition  caption  viewCount  \\\n",
       "1     People & Blogs  PT1H12M34S         4354         sd    False        881   \n",
       "\n",
       "   likeCount  dislikeCount  commentCount  \n",
       "1       14.0           0.0           3.0  "
      ]
     },
     "execution_count": 19,
     "metadata": {},
     "output_type": "execute_result"
    }
   ],
   "source": [
    "df[df['channelTitle']=='Tink Tink Club']"
   ]
  },
  {
   "cell_type": "code",
   "execution_count": 20,
   "id": "dc35bb79",
   "metadata": {},
   "outputs": [
    {
     "data": {
      "text/plain": [
       "0      1512\n",
       "1       881\n",
       "2        67\n",
       "3         4\n",
       "4      5465\n",
       "       ... \n",
       "110     304\n",
       "111     294\n",
       "112     463\n",
       "113     341\n",
       "114     345\n",
       "Name: viewCount, Length: 115, dtype: int64"
      ]
     },
     "execution_count": 20,
     "metadata": {},
     "output_type": "execute_result"
    }
   ],
   "source": [
    "df['viewCount']"
   ]
  },
  {
   "cell_type": "code",
   "execution_count": 24,
   "id": "1364af3b",
   "metadata": {},
   "outputs": [
    {
     "name": "stderr",
     "output_type": "stream",
     "text": [
      "C:\\Users\\navan\\py\\lib\\site-packages\\seaborn\\_decorators.py:36: FutureWarning: Pass the following variable as a keyword arg: x. From version 0.12, the only valid positional argument will be `data`, and passing other arguments without an explicit keyword will result in an error or misinterpretation.\n",
      "  warnings.warn(\n"
     ]
    },
    {
     "data": {
      "text/plain": [
       "<AxesSubplot:xlabel='viewCount'>"
      ]
     },
     "execution_count": 24,
     "metadata": {},
     "output_type": "execute_result"
    },
    {
     "data": {
      "image/png": "[encoded data removed]",
      "text/plain": [
       "<Figure size 432x288 with 1 Axes>"
      ]
     },
     "metadata": {
      "needs_background": "light"
     },
     "output_type": "display_data"
    }
   ],
   "source": [
    "sb.barplot('viewCount',data=df)"
   ]
  },
  {
   "cell_type": "code",
   "execution_count": 25,
   "id": "352d2695",
   "metadata": {},
   "outputs": [
    {
     "data": {
      "text/plain": [
       "0      PT1H19M40S\n",
       "1      PT1H12M34S\n",
       "2        PT50M40S\n",
       "3        PT32M21S\n",
       "4        PT26M32S\n",
       "          ...    \n",
       "110         PT26M\n",
       "111         PT18S\n",
       "112         PT11S\n",
       "113         PT11M\n",
       "114          PT1M\n",
       "Name: duration, Length: 115, dtype: object"
      ]
     },
     "execution_count": 25,
     "metadata": {},
     "output_type": "execute_result"
    }
   ],
   "source": [
    "df['duration']"
   ]
  },
  {
   "cell_type": "code",
   "execution_count": 26,
   "id": "ad1f4b47",
   "metadata": {},
   "outputs": [
    {
     "data": {
      "text/plain": [
       "0      4780\n",
       "1      4354\n",
       "2      3040\n",
       "3      1941\n",
       "4      1592\n",
       "       ... \n",
       "110      26\n",
       "111      18\n",
       "112      11\n",
       "113      11\n",
       "114       1\n",
       "Name: durationSec, Length: 115, dtype: int64"
      ]
     },
     "execution_count": 26,
     "metadata": {},
     "output_type": "execute_result"
    }
   ],
   "source": [
    "df['durationSec']"
   ]
  },
  {
   "cell_type": "code",
   "execution_count": 27,
   "id": "0cc308ca",
   "metadata": {},
   "outputs": [
    {
     "name": "stdout",
     "output_type": "stream",
     "text": [
      "<class 'pandas.core.frame.DataFrame'>\n",
      "RangeIndex: 115 entries, 0 to 114\n",
      "Data columns (total 17 columns):\n",
      " #   Column              Non-Null Count  Dtype  \n",
      "---  ------              --------------  -----  \n",
      " 0   Unnamed: 0          115 non-null    int64  \n",
      " 1   channelId           115 non-null    object \n",
      " 2   channelTitle        115 non-null    object \n",
      " 3   videoId             115 non-null    object \n",
      " 4   publishedAt         115 non-null    object \n",
      " 5   videoTitle          115 non-null    object \n",
      " 6   videoDescription    109 non-null    object \n",
      " 7   videoCategoryId     115 non-null    int64  \n",
      " 8   videoCategoryLabel  115 non-null    object \n",
      " 9   duration            115 non-null    object \n",
      " 10  durationSec         115 non-null    int64  \n",
      " 11  definition          115 non-null    object \n",
      " 12  caption             115 non-null    bool   \n",
      " 13  viewCount           115 non-null    int64  \n",
      " 14  likeCount           111 non-null    float64\n",
      " 15  dislikeCount        111 non-null    float64\n",
      " 16  commentCount        113 non-null    float64\n",
      "dtypes: bool(1), float64(3), int64(4), object(9)\n",
      "memory usage: 14.6+ KB\n"
     ]
    }
   ],
   "source": [
    "df.info()"
   ]
  },
  {
   "cell_type": "code",
   "execution_count": 28,
   "id": "476d06c3",
   "metadata": {},
   "outputs": [
    {
     "data": {
      "text/plain": [
       "0      Psychedelic Horizons Beyond Psychotherapy Work...\n",
       "1                         Episode 35 - Dr. James Fadiman\n",
       "2      #325 Microdosing from The Adam and Dr Drew Sho...\n",
       "3                    Microdosing Away The Same Old Blues\n",
       "4      Erschossener Kiffer / Drogen in Mikro-Dosierun...\n",
       "                             ...                        \n",
       "110    Time differentials: mystery wisdom and microdo...\n",
       "111    Fluid filling with exact precision dosing by F...\n",
       "112    Accurate dosing of Helix Twisted Steel Micro R...\n",
       "113                     Psilocybin Mushroom Micro-Dosing\n",
       "114                             Dosing Helix Micro Rebar\n",
       "Name: videoTitle, Length: 115, dtype: object"
      ]
     },
     "execution_count": 28,
     "metadata": {},
     "output_type": "execute_result"
    }
   ],
   "source": [
    "df['videoTitle']"
   ]
  },
  {
   "cell_type": "code",
   "execution_count": 29,
   "id": "1dddc565",
   "metadata": {},
   "outputs": [
    {
     "data": {
      "text/plain": [
       "0      Nonprofits & Activism\n",
       "1             People & Blogs\n",
       "2             People & Blogs\n",
       "3              Entertainment\n",
       "4              Entertainment\n",
       "               ...          \n",
       "110            Entertainment\n",
       "111            Howto & Style\n",
       "112     Science & Technology\n",
       "113            Entertainment\n",
       "114                Education\n",
       "Name: videoCategoryLabel, Length: 115, dtype: object"
      ]
     },
     "execution_count": 29,
     "metadata": {},
     "output_type": "execute_result"
    }
   ],
   "source": [
    "df['videoCategoryLabel']"
   ]
  },
  {
   "cell_type": "code",
   "execution_count": 35,
   "id": "46660b90",
   "metadata": {},
   "outputs": [
    {
     "name": "stderr",
     "output_type": "stream",
     "text": [
      "C:\\Users\\navan\\py\\lib\\site-packages\\seaborn\\_decorators.py:36: FutureWarning: Pass the following variable as a keyword arg: x. From version 0.12, the only valid positional argument will be `data`, and passing other arguments without an explicit keyword will result in an error or misinterpretation.\n",
      "  warnings.warn(\n"
     ]
    },
    {
     "data": {
      "text/plain": [
       "<AxesSubplot:xlabel='videoCategoryLabel', ylabel='count'>"
      ]
     },
     "execution_count": 35,
     "metadata": {},
     "output_type": "execute_result"
    },
    {
     "data": {
      "image/png": "[encoded data removed]",
      "text/plain": [
       "<Figure size 1296x432 with 1 Axes>"
      ]
     },
     "metadata": {
      "needs_background": "light"
     },
     "output_type": "display_data"
    }
   ],
   "source": [
    "# Goal : Get the total video count for each video category\n",
    "# bolgs video count is large\n",
    "pt.rcParams['figure.figsize'] = (18,6)\n",
    "sb.countplot('videoCategoryLabel',data=df)\n"
   ]
  },
  {
   "cell_type": "code",
   "execution_count": 36,
   "id": "b3078e62",
   "metadata": {},
   "outputs": [
    {
     "name": "stdout",
     "output_type": "stream",
     "text": [
      "<class 'pandas.core.frame.DataFrame'>\n",
      "RangeIndex: 115 entries, 0 to 114\n",
      "Data columns (total 17 columns):\n",
      " #   Column              Non-Null Count  Dtype  \n",
      "---  ------              --------------  -----  \n",
      " 0   Unnamed: 0          115 non-null    int64  \n",
      " 1   channelId           115 non-null    object \n",
      " 2   channelTitle        115 non-null    object \n",
      " 3   videoId             115 non-null    object \n",
      " 4   publishedAt         115 non-null    object \n",
      " 5   videoTitle          115 non-null    object \n",
      " 6   videoDescription    109 non-null    object \n",
      " 7   videoCategoryId     115 non-null    int64  \n",
      " 8   videoCategoryLabel  115 non-null    object \n",
      " 9   duration            115 non-null    object \n",
      " 10  durationSec         115 non-null    int64  \n",
      " 11  definition          115 non-null    object \n",
      " 12  caption             115 non-null    bool   \n",
      " 13  viewCount           115 non-null    int64  \n",
      " 14  likeCount           111 non-null    float64\n",
      " 15  dislikeCount        111 non-null    float64\n",
      " 16  commentCount        113 non-null    float64\n",
      "dtypes: bool(1), float64(3), int64(4), object(9)\n",
      "memory usage: 14.6+ KB\n"
     ]
    }
   ],
   "source": [
    "df.info()"
   ]
  },
  {
   "cell_type": "code",
   "execution_count": 37,
   "id": "d22c725c",
   "metadata": {},
   "outputs": [
    {
     "data": {
      "text/plain": [
       "0      1512\n",
       "1       881\n",
       "2        67\n",
       "3         4\n",
       "4      5465\n",
       "       ... \n",
       "110     304\n",
       "111     294\n",
       "112     463\n",
       "113     341\n",
       "114     345\n",
       "Name: viewCount, Length: 115, dtype: int64"
      ]
     },
     "execution_count": 37,
     "metadata": {},
     "output_type": "execute_result"
    }
   ],
   "source": [
    "df['viewCount']"
   ]
  },
  {
   "cell_type": "code",
   "execution_count": 38,
   "id": "c8e85fc9",
   "metadata": {},
   "outputs": [
    {
     "name": "stderr",
     "output_type": "stream",
     "text": [
      "C:\\Users\\navan\\py\\lib\\site-packages\\seaborn\\_decorators.py:36: FutureWarning: Pass the following variables as keyword args: x, y. From version 0.12, the only valid positional argument will be `data`, and passing other arguments without an explicit keyword will result in an error or misinterpretation.\n",
      "  warnings.warn(\n"
     ]
    },
    {
     "data": {
      "text/plain": [
       "<AxesSubplot:xlabel='videoCategoryLabel', ylabel='viewCount'>"
      ]
     },
     "execution_count": 38,
     "metadata": {},
     "output_type": "execute_result"
    },
    {
     "data": {
      "image/png": "[encoded data removed]",
      "text/plain": [
       "<Figure size 1296x432 with 1 Axes>"
      ]
     },
     "metadata": {
      "needs_background": "light"
     },
     "output_type": "display_data"
    }
   ],
   "source": [
    "# Goal: Get the view count for each video category\n",
    "# Entertainment,News,Information tech videos has higher viws than others\n",
    "sb.barplot('videoCategoryLabel','viewCount',data=df)"
   ]
  },
  {
   "cell_type": "code",
   "execution_count": 39,
   "id": "5e5d3b19",
   "metadata": {},
   "outputs": [
    {
     "name": "stdout",
     "output_type": "stream",
     "text": [
      "<class 'pandas.core.frame.DataFrame'>\n",
      "RangeIndex: 115 entries, 0 to 114\n",
      "Data columns (total 17 columns):\n",
      " #   Column              Non-Null Count  Dtype  \n",
      "---  ------              --------------  -----  \n",
      " 0   Unnamed: 0          115 non-null    int64  \n",
      " 1   channelId           115 non-null    object \n",
      " 2   channelTitle        115 non-null    object \n",
      " 3   videoId             115 non-null    object \n",
      " 4   publishedAt         115 non-null    object \n",
      " 5   videoTitle          115 non-null    object \n",
      " 6   videoDescription    109 non-null    object \n",
      " 7   videoCategoryId     115 non-null    int64  \n",
      " 8   videoCategoryLabel  115 non-null    object \n",
      " 9   duration            115 non-null    object \n",
      " 10  durationSec         115 non-null    int64  \n",
      " 11  definition          115 non-null    object \n",
      " 12  caption             115 non-null    bool   \n",
      " 13  viewCount           115 non-null    int64  \n",
      " 14  likeCount           111 non-null    float64\n",
      " 15  dislikeCount        111 non-null    float64\n",
      " 16  commentCount        113 non-null    float64\n",
      "dtypes: bool(1), float64(3), int64(4), object(9)\n",
      "memory usage: 14.6+ KB\n"
     ]
    }
   ],
   "source": [
    "df.info()"
   ]
  },
  {
   "cell_type": "code",
   "execution_count": 40,
   "id": "43f9bb9b",
   "metadata": {},
   "outputs": [
    {
     "name": "stderr",
     "output_type": "stream",
     "text": [
      "C:\\Users\\navan\\py\\lib\\site-packages\\seaborn\\_decorators.py:36: FutureWarning: Pass the following variables as keyword args: x, y. From version 0.12, the only valid positional argument will be `data`, and passing other arguments without an explicit keyword will result in an error or misinterpretation.\n",
      "  warnings.warn(\n"
     ]
    },
    {
     "data": {
      "text/plain": [
       "<AxesSubplot:xlabel='videoCategoryLabel', ylabel='durationSec'>"
      ]
     },
     "execution_count": 40,
     "metadata": {},
     "output_type": "execute_result"
    },
    {
     "data": {
      "image/png": "[encoded data removed]",
      "text/plain": [
       "<Figure size 1296x432 with 1 Axes>"
      ]
     },
     "metadata": {
      "needs_background": "light"
     },
     "output_type": "display_data"
    }
   ],
   "source": [
    "# Goal : Get the duration sec for each video category\n",
    "# Video duration is longer for Non-Profits and Entertainment \n",
    "sb.barplot('videoCategoryLabel','durationSec',data=df)"
   ]
  },
  {
   "cell_type": "code",
   "execution_count": 41,
   "id": "688d5635",
   "metadata": {},
   "outputs": [
    {
     "name": "stdout",
     "output_type": "stream",
     "text": [
      "<class 'pandas.core.frame.DataFrame'>\n",
      "RangeIndex: 115 entries, 0 to 114\n",
      "Data columns (total 17 columns):\n",
      " #   Column              Non-Null Count  Dtype  \n",
      "---  ------              --------------  -----  \n",
      " 0   Unnamed: 0          115 non-null    int64  \n",
      " 1   channelId           115 non-null    object \n",
      " 2   channelTitle        115 non-null    object \n",
      " 3   videoId             115 non-null    object \n",
      " 4   publishedAt         115 non-null    object \n",
      " 5   videoTitle          115 non-null    object \n",
      " 6   videoDescription    109 non-null    object \n",
      " 7   videoCategoryId     115 non-null    int64  \n",
      " 8   videoCategoryLabel  115 non-null    object \n",
      " 9   duration            115 non-null    object \n",
      " 10  durationSec         115 non-null    int64  \n",
      " 11  definition          115 non-null    object \n",
      " 12  caption             115 non-null    bool   \n",
      " 13  viewCount           115 non-null    int64  \n",
      " 14  likeCount           111 non-null    float64\n",
      " 15  dislikeCount        111 non-null    float64\n",
      " 16  commentCount        113 non-null    float64\n",
      "dtypes: bool(1), float64(3), int64(4), object(9)\n",
      "memory usage: 14.6+ KB\n"
     ]
    }
   ],
   "source": [
    "df.info()"
   ]
  },
  {
   "cell_type": "code",
   "execution_count": 42,
   "id": "6893978b",
   "metadata": {},
   "outputs": [
    {
     "data": {
      "text/plain": [
       "<BarContainer object of 115 artists>"
      ]
     },
     "execution_count": 42,
     "metadata": {},
     "output_type": "execute_result"
    },
    {
     "data": {
      "image/png": "[encoded data removed]",
      "text/plain": [
       "<Figure size 1296x432 with 1 Axes>"
      ]
     },
     "metadata": {
      "needs_background": "light"
     },
     "output_type": "display_data"
    }
   ],
   "source": [
    "# Goal: get the like count based on video category\n",
    "# the like count is high for science and tech \n",
    "pt.bar('videoCategoryLabel','likeCount',data=df)"
   ]
  },
  {
   "cell_type": "code",
   "execution_count": 43,
   "id": "5246bdb9",
   "metadata": {},
   "outputs": [
    {
     "name": "stdout",
     "output_type": "stream",
     "text": [
      "<class 'pandas.core.frame.DataFrame'>\n",
      "RangeIndex: 115 entries, 0 to 114\n",
      "Data columns (total 17 columns):\n",
      " #   Column              Non-Null Count  Dtype  \n",
      "---  ------              --------------  -----  \n",
      " 0   Unnamed: 0          115 non-null    int64  \n",
      " 1   channelId           115 non-null    object \n",
      " 2   channelTitle        115 non-null    object \n",
      " 3   videoId             115 non-null    object \n",
      " 4   publishedAt         115 non-null    object \n",
      " 5   videoTitle          115 non-null    object \n",
      " 6   videoDescription    109 non-null    object \n",
      " 7   videoCategoryId     115 non-null    int64  \n",
      " 8   videoCategoryLabel  115 non-null    object \n",
      " 9   duration            115 non-null    object \n",
      " 10  durationSec         115 non-null    int64  \n",
      " 11  definition          115 non-null    object \n",
      " 12  caption             115 non-null    bool   \n",
      " 13  viewCount           115 non-null    int64  \n",
      " 14  likeCount           111 non-null    float64\n",
      " 15  dislikeCount        111 non-null    float64\n",
      " 16  commentCount        113 non-null    float64\n",
      "dtypes: bool(1), float64(3), int64(4), object(9)\n",
      "memory usage: 14.6+ KB\n"
     ]
    }
   ],
   "source": [
    "df.info()"
   ]
  },
  {
   "cell_type": "code",
   "execution_count": 45,
   "id": "31a2a440",
   "metadata": {},
   "outputs": [
    {
     "name": "stderr",
     "output_type": "stream",
     "text": [
      "C:\\Users\\navan\\py\\lib\\site-packages\\seaborn\\_decorators.py:36: FutureWarning: Pass the following variables as keyword args: x, y. From version 0.12, the only valid positional argument will be `data`, and passing other arguments without an explicit keyword will result in an error or misinterpretation.\n",
      "  warnings.warn(\n"
     ]
    },
    {
     "data": {
      "text/plain": [
       "<AxesSubplot:xlabel='videoCategoryLabel', ylabel='dislikeCount'>"
      ]
     },
     "execution_count": 45,
     "metadata": {},
     "output_type": "execute_result"
    },
    {
     "data": {
      "image/png": "[encoded data removed]",
      "text/plain": [
       "<Figure size 1296x432 with 1 Axes>"
      ]
     },
     "metadata": {
      "needs_background": "light"
     },
     "output_type": "display_data"
    }
   ],
   "source": [
    "# Goal: Get the doslike count for video category\n",
    "# News and politics has huge dislike count and the difference between others are huge \n",
    "sb.barplot('videoCategoryLabel','dislikeCount',data=df)"
   ]
  },
  {
   "cell_type": "code",
   "execution_count": 46,
   "id": "5a2a8f57",
   "metadata": {},
   "outputs": [
    {
     "name": "stdout",
     "output_type": "stream",
     "text": [
      "<class 'pandas.core.frame.DataFrame'>\n",
      "RangeIndex: 115 entries, 0 to 114\n",
      "Data columns (total 17 columns):\n",
      " #   Column              Non-Null Count  Dtype  \n",
      "---  ------              --------------  -----  \n",
      " 0   Unnamed: 0          115 non-null    int64  \n",
      " 1   channelId           115 non-null    object \n",
      " 2   channelTitle        115 non-null    object \n",
      " 3   videoId             115 non-null    object \n",
      " 4   publishedAt         115 non-null    object \n",
      " 5   videoTitle          115 non-null    object \n",
      " 6   videoDescription    109 non-null    object \n",
      " 7   videoCategoryId     115 non-null    int64  \n",
      " 8   videoCategoryLabel  115 non-null    object \n",
      " 9   duration            115 non-null    object \n",
      " 10  durationSec         115 non-null    int64  \n",
      " 11  definition          115 non-null    object \n",
      " 12  caption             115 non-null    bool   \n",
      " 13  viewCount           115 non-null    int64  \n",
      " 14  likeCount           111 non-null    float64\n",
      " 15  dislikeCount        111 non-null    float64\n",
      " 16  commentCount        113 non-null    float64\n",
      "dtypes: bool(1), float64(3), int64(4), object(9)\n",
      "memory usage: 14.6+ KB\n"
     ]
    }
   ],
   "source": [
    "df.info()"
   ]
  },
  {
   "cell_type": "code",
   "execution_count": 47,
   "id": "ba90db1b",
   "metadata": {},
   "outputs": [
    {
     "name": "stderr",
     "output_type": "stream",
     "text": [
      "C:\\Users\\navan\\py\\lib\\site-packages\\seaborn\\_decorators.py:36: FutureWarning: Pass the following variables as keyword args: x, y. From version 0.12, the only valid positional argument will be `data`, and passing other arguments without an explicit keyword will result in an error or misinterpretation.\n",
      "  warnings.warn(\n"
     ]
    },
    {
     "data": {
      "text/plain": [
       "<AxesSubplot:xlabel='videoCategoryLabel', ylabel='commentCount'>"
      ]
     },
     "execution_count": 47,
     "metadata": {},
     "output_type": "execute_result"
    },
    {
     "data": {
      "image/png": "[encoded data removed]",
      "text/plain": [
       "<Figure size 1296x432 with 1 Axes>"
      ]
     },
     "metadata": {
      "needs_background": "light"
     },
     "output_type": "display_data"
    }
   ],
   "source": [
    "# Comment count also huge in Politics\n",
    "sb.barplot('videoCategoryLabel','commentCount',data=df)"
   ]
  },
  {
   "cell_type": "code",
   "execution_count": 48,
   "id": "62f35b8c",
   "metadata": {},
   "outputs": [
    {
     "name": "stdout",
     "output_type": "stream",
     "text": [
      "<class 'pandas.core.frame.DataFrame'>\n",
      "RangeIndex: 115 entries, 0 to 114\n",
      "Data columns (total 17 columns):\n",
      " #   Column              Non-Null Count  Dtype  \n",
      "---  ------              --------------  -----  \n",
      " 0   Unnamed: 0          115 non-null    int64  \n",
      " 1   channelId           115 non-null    object \n",
      " 2   channelTitle        115 non-null    object \n",
      " 3   videoId             115 non-null    object \n",
      " 4   publishedAt         115 non-null    object \n",
      " 5   videoTitle          115 non-null    object \n",
      " 6   videoDescription    109 non-null    object \n",
      " 7   videoCategoryId     115 non-null    int64  \n",
      " 8   videoCategoryLabel  115 non-null    object \n",
      " 9   duration            115 non-null    object \n",
      " 10  durationSec         115 non-null    int64  \n",
      " 11  definition          115 non-null    object \n",
      " 12  caption             115 non-null    bool   \n",
      " 13  viewCount           115 non-null    int64  \n",
      " 14  likeCount           111 non-null    float64\n",
      " 15  dislikeCount        111 non-null    float64\n",
      " 16  commentCount        113 non-null    float64\n",
      "dtypes: bool(1), float64(3), int64(4), object(9)\n",
      "memory usage: 14.6+ KB\n"
     ]
    }
   ],
   "source": [
    "df.info()"
   ]
  },
  {
   "cell_type": "code",
   "execution_count": 49,
   "id": "af83a143",
   "metadata": {},
   "outputs": [
    {
     "data": {
      "text/plain": [
       "0      2014-01-10T01:24:57.000Z\n",
       "1      2015-06-18T16:56:04.000Z\n",
       "2      2016-05-01T05:33:13.000Z\n",
       "3      2016-01-25T04:48:22.000Z\n",
       "4      2014-08-15T10:53:58.000Z\n",
       "                 ...           \n",
       "110    2016-03-25T04:58:34.000Z\n",
       "111    2010-08-20T14:46:56.000Z\n",
       "112    2014-05-19T12:14:36.000Z\n",
       "113    2016-04-15T19:31:48.000Z\n",
       "114    2015-08-19T18:25:20.000Z\n",
       "Name: publishedAt, Length: 115, dtype: object"
      ]
     },
     "execution_count": 49,
     "metadata": {},
     "output_type": "execute_result"
    }
   ],
   "source": [
    "df['publishedAt']"
   ]
  },
  {
   "cell_type": "code",
   "execution_count": 50,
   "id": "22c25685",
   "metadata": {},
   "outputs": [
    {
     "data": {
      "text/plain": [
       "0      False\n",
       "1      False\n",
       "2      False\n",
       "3      False\n",
       "4      False\n",
       "       ...  \n",
       "110    False\n",
       "111    False\n",
       "112    False\n",
       "113    False\n",
       "114    False\n",
       "Name: caption, Length: 115, dtype: bool"
      ]
     },
     "execution_count": 50,
     "metadata": {},
     "output_type": "execute_result"
    }
   ],
   "source": [
    "df['caption']"
   ]
  },
  {
   "cell_type": "code",
   "execution_count": 51,
   "id": "fec67173",
   "metadata": {},
   "outputs": [
    {
     "data": {
      "text/plain": [
       "0      Psychedelic Horizons Beyond Psychotherapy Work...\n",
       "1                         Episode 35 - Dr. James Fadiman\n",
       "2      #325 Microdosing from The Adam and Dr Drew Sho...\n",
       "3                    Microdosing Away The Same Old Blues\n",
       "4      Erschossener Kiffer / Drogen in Mikro-Dosierun...\n",
       "                             ...                        \n",
       "110    Time differentials: mystery wisdom and microdo...\n",
       "111    Fluid filling with exact precision dosing by F...\n",
       "112    Accurate dosing of Helix Twisted Steel Micro R...\n",
       "113                     Psilocybin Mushroom Micro-Dosing\n",
       "114                             Dosing Helix Micro Rebar\n",
       "Name: videoTitle, Length: 115, dtype: object"
      ]
     },
     "execution_count": 51,
     "metadata": {},
     "output_type": "execute_result"
    }
   ],
   "source": [
    "df['videoTitle']"
   ]
  },
  {
   "cell_type": "code",
   "execution_count": 54,
   "id": "2d7802a8",
   "metadata": {},
   "outputs": [
    {
     "data": {
      "text/plain": [
       "array(['hd', 'sd'], dtype=object)"
      ]
     },
     "execution_count": 54,
     "metadata": {},
     "output_type": "execute_result"
    }
   ],
   "source": [
    "df['definition'].unique()"
   ]
  },
  {
   "cell_type": "code",
   "execution_count": 63,
   "id": "e88b4178",
   "metadata": {},
   "outputs": [
    {
     "name": "stderr",
     "output_type": "stream",
     "text": [
      "C:\\Users\\navan\\py\\lib\\site-packages\\seaborn\\_decorators.py:36: FutureWarning: Pass the following variable as a keyword arg: x. From version 0.12, the only valid positional argument will be `data`, and passing other arguments without an explicit keyword will result in an error or misinterpretation.\n",
      "  warnings.warn(\n"
     ]
    },
    {
     "data": {
      "text/plain": [
       "<AxesSubplot:xlabel='videoCategoryLabel', ylabel='count'>"
      ]
     },
     "execution_count": 63,
     "metadata": {},
     "output_type": "execute_result"
    },
    {
     "data": {
      "image/png": "[encoded data removed]",
      "text/plain": [
       "<Figure size 1296x432 with 1 Axes>"
      ]
     },
     "metadata": {
      "needs_background": "light"
     },
     "output_type": "display_data"
    }
   ],
   "source": [
    "# blogs has more HD content\n",
    "sb.countplot('videoCategoryLabel',hue='definition',data=df)"
   ]
  },
  {
   "cell_type": "code",
   "execution_count": 64,
   "id": "055a7031",
   "metadata": {},
   "outputs": [
    {
     "name": "stderr",
     "output_type": "stream",
     "text": [
      "C:\\Users\\navan\\py\\lib\\site-packages\\seaborn\\_decorators.py:36: FutureWarning: Pass the following variables as keyword args: x, y. From version 0.12, the only valid positional argument will be `data`, and passing other arguments without an explicit keyword will result in an error or misinterpretation.\n",
      "  warnings.warn(\n"
     ]
    },
    {
     "data": {
      "text/plain": [
       "<AxesSubplot:xlabel='videoCategoryLabel', ylabel='durationSec'>"
      ]
     },
     "execution_count": 64,
     "metadata": {},
     "output_type": "execute_result"
    },
    {
     "data": {
      "image/png": "[encoded data removed]",
      "text/plain": [
       "<Figure size 1296x432 with 1 Axes>"
      ]
     },
     "metadata": {
      "needs_background": "light"
     },
     "output_type": "display_data"
    }
   ],
   "source": [
    "sb.barplot('videoCategoryLabel','durationSec',hue='definition',data=df)"
   ]
  },
  {
   "cell_type": "code",
   "execution_count": 65,
   "id": "e491c12c",
   "metadata": {},
   "outputs": [
    {
     "name": "stdout",
     "output_type": "stream",
     "text": [
      "<class 'pandas.core.frame.DataFrame'>\n",
      "RangeIndex: 115 entries, 0 to 114\n",
      "Data columns (total 17 columns):\n",
      " #   Column              Non-Null Count  Dtype  \n",
      "---  ------              --------------  -----  \n",
      " 0   Unnamed: 0          115 non-null    int64  \n",
      " 1   channelId           115 non-null    object \n",
      " 2   channelTitle        115 non-null    object \n",
      " 3   videoId             115 non-null    object \n",
      " 4   publishedAt         115 non-null    object \n",
      " 5   videoTitle          115 non-null    object \n",
      " 6   videoDescription    109 non-null    object \n",
      " 7   videoCategoryId     115 non-null    int64  \n",
      " 8   videoCategoryLabel  115 non-null    object \n",
      " 9   duration            115 non-null    object \n",
      " 10  durationSec         115 non-null    int64  \n",
      " 11  definition          115 non-null    object \n",
      " 12  caption             115 non-null    bool   \n",
      " 13  viewCount           115 non-null    int64  \n",
      " 14  likeCount           111 non-null    float64\n",
      " 15  dislikeCount        111 non-null    float64\n",
      " 16  commentCount        113 non-null    float64\n",
      "dtypes: bool(1), float64(3), int64(4), object(9)\n",
      "memory usage: 14.6+ KB\n"
     ]
    }
   ],
   "source": [
    "df.info()"
   ]
  },
  {
   "cell_type": "code",
   "execution_count": 6,
   "id": "d54d13ee",
   "metadata": {},
   "outputs": [
    {
     "name": "stdout",
     "output_type": "stream",
     "text": [
      "<class 'pandas.core.frame.DataFrame'>\n",
      "RangeIndex: 115 entries, 0 to 114\n",
      "Data columns (total 17 columns):\n",
      " #   Column              Non-Null Count  Dtype  \n",
      "---  ------              --------------  -----  \n",
      " 0   Unnamed: 0          115 non-null    int64  \n",
      " 1   channelId           115 non-null    object \n",
      " 2   channelTitle        115 non-null    object \n",
      " 3   videoId             115 non-null    object \n",
      " 4   publishedAt         115 non-null    object \n",
      " 5   videoTitle          115 non-null    object \n",
      " 6   videoDescription    109 non-null    object \n",
      " 7   videoCategoryId     115 non-null    int64  \n",
      " 8   videoCategoryLabel  115 non-null    object \n",
      " 9   duration            115 non-null    object \n",
      " 10  durationSec         115 non-null    int64  \n",
      " 11  definition          115 non-null    object \n",
      " 12  caption             115 non-null    bool   \n",
      " 13  viewCount           115 non-null    int64  \n",
      " 14  likeCount           111 non-null    float64\n",
      " 15  dislikeCount        111 non-null    float64\n",
      " 16  commentCount        113 non-null    float64\n",
      "dtypes: bool(1), float64(3), int64(4), object(9)\n",
      "memory usage: 14.6+ KB\n"
     ]
    }
   ],
   "source": [
    "df.info()"
   ]
  },
  {
   "cell_type": "code",
   "execution_count": 30,
   "id": "941a52d6",
   "metadata": {},
   "outputs": [],
   "source": [
    "# First we split the year and time\n",
    "df['publishedAtyear'] = df['publishedAt'].apply(lambda x:x.split('T')[0])"
   ]
  },
  {
   "cell_type": "code",
   "execution_count": 36,
   "id": "1c3d8da3",
   "metadata": {},
   "outputs": [
    {
     "data": {
      "text/plain": [
       "0      2014-01-10\n",
       "1      2015-06-18\n",
       "2      2016-05-01\n",
       "3      2016-01-25\n",
       "4      2014-08-15\n",
       "          ...    \n",
       "110    2016-03-25\n",
       "111    2010-08-20\n",
       "112    2014-05-19\n",
       "113    2016-04-15\n",
       "114    2015-08-19\n",
       "Name: publishedAtyear, Length: 115, dtype: object"
      ]
     },
     "execution_count": 36,
     "metadata": {},
     "output_type": "execute_result"
    }
   ],
   "source": [
    "df['publishedAtyear']"
   ]
  },
  {
   "cell_type": "code",
   "execution_count": 15,
   "id": "a1caaa21",
   "metadata": {},
   "outputs": [],
   "source": [
    "# Again we further split into date,day,year\n",
    "\n",
    "df['publishedAtmonth'] = df['publishedAtyear'].apply(lambda x:x.split('-')[1])\n",
    "df['publishedAtday'] = df['publishedAtyear'].apply(lambda x:x.split('-')[2])\n",
    "df['publishedAtyear'] = df['publishedAtyear'].apply(lambda x:x.split('-')[0])"
   ]
  },
  {
   "cell_type": "code",
   "execution_count": 21,
   "id": "f30367fd",
   "metadata": {},
   "outputs": [],
   "source": [
    "df['publishedAtday'] = df['publishedAtday'].astype('int64')\n",
    "df['publishedAtmonth'] = df['publishedAtday'].astype('int64')\n",
    "df['publishedAtyear'] = df['publishedAtday'].astype('int64')"
   ]
  },
  {
   "cell_type": "code",
   "execution_count": 22,
   "id": "387ff674",
   "metadata": {},
   "outputs": [
    {
     "name": "stdout",
     "output_type": "stream",
     "text": [
      "<class 'pandas.core.frame.DataFrame'>\n",
      "RangeIndex: 115 entries, 0 to 114\n",
      "Data columns (total 20 columns):\n",
      " #   Column              Non-Null Count  Dtype  \n",
      "---  ------              --------------  -----  \n",
      " 0   Unnamed: 0          115 non-null    int64  \n",
      " 1   channelId           115 non-null    object \n",
      " 2   channelTitle        115 non-null    object \n",
      " 3   videoId             115 non-null    object \n",
      " 4   publishedAt         115 non-null    object \n",
      " 5   videoTitle          115 non-null    object \n",
      " 6   videoDescription    109 non-null    object \n",
      " 7   videoCategoryId     115 non-null    int64  \n",
      " 8   videoCategoryLabel  115 non-null    object \n",
      " 9   duration            115 non-null    object \n",
      " 10  durationSec         115 non-null    int64  \n",
      " 11  definition          115 non-null    object \n",
      " 12  caption             115 non-null    bool   \n",
      " 13  viewCount           115 non-null    int64  \n",
      " 14  likeCount           111 non-null    float64\n",
      " 15  dislikeCount        111 non-null    float64\n",
      " 16  commentCount        113 non-null    float64\n",
      " 17  publishedAtyear     115 non-null    int64  \n",
      " 18  publishedAtmonth    115 non-null    int64  \n",
      " 19  publishedAtday      115 non-null    int64  \n",
      "dtypes: bool(1), float64(3), int64(7), object(9)\n",
      "memory usage: 17.3+ KB\n"
     ]
    }
   ],
   "source": [
    "df.info()"
   ]
  },
  {
   "cell_type": "code",
   "execution_count": 40,
   "id": "d09d35ce",
   "metadata": {},
   "outputs": [
    {
     "data": {
      "text/plain": [
       "0      2014-01-10T01:24:57.000Z\n",
       "1      2015-06-18T16:56:04.000Z\n",
       "2      2016-05-01T05:33:13.000Z\n",
       "3      2016-01-25T04:48:22.000Z\n",
       "4      2014-08-15T10:53:58.000Z\n",
       "                 ...           \n",
       "110    2016-03-25T04:58:34.000Z\n",
       "111    2010-08-20T14:46:56.000Z\n",
       "112    2014-05-19T12:14:36.000Z\n",
       "113    2016-04-15T19:31:48.000Z\n",
       "114    2015-08-19T18:25:20.000Z\n",
       "Name: publishedAt, Length: 115, dtype: object"
      ]
     },
     "execution_count": 40,
     "metadata": {},
     "output_type": "execute_result"
    }
   ],
   "source": [
    "df['publishedAt']"
   ]
  },
  {
   "cell_type": "code",
   "execution_count": 25,
   "id": "c624c505",
   "metadata": {},
   "outputs": [
    {
     "data": {
      "text/plain": [
       "<module 'seaborn' from 'C:\\\\Users\\\\navan\\\\py\\\\lib\\\\site-packages\\\\seaborn\\\\__init__.py'>"
      ]
     },
     "execution_count": 25,
     "metadata": {},
     "output_type": "execute_result"
    }
   ],
   "source": [
    "sb"
   ]
  },
  {
   "cell_type": "code",
   "execution_count": 29,
   "id": "84343f5e",
   "metadata": {},
   "outputs": [
    {
     "name": "stderr",
     "output_type": "stream",
     "text": [
      "C:\\Users\\navan\\py\\lib\\site-packages\\seaborn\\_decorators.py:36: FutureWarning: Pass the following variable as a keyword arg: x. From version 0.12, the only valid positional argument will be `data`, and passing other arguments without an explicit keyword will result in an error or misinterpretation.\n",
      "  warnings.warn(\n"
     ]
    },
    {
     "data": {
      "text/plain": [
       "<AxesSubplot:xlabel='publishedAtyear', ylabel='count'>"
      ]
     },
     "execution_count": 29,
     "metadata": {},
     "output_type": "execute_result"
    },
    {
     "data": {
      "image/png": "[encoded data removed]",
      "text/plain": [
       "<Figure size 432x288 with 1 Axes>"
      ]
     },
     "metadata": {
      "needs_background": "light"
     },
     "output_type": "display_data"
    }
   ],
   "source": [
    "sb.countplot('publishedAtyear',data=df)"
   ]
  },
  {
   "cell_type": "code",
   "execution_count": 50,
   "id": "5a3c8842",
   "metadata": {},
   "outputs": [
    {
     "data": {
      "text/plain": [
       "array(['2014', '2015', '2016', '2010', '2012', '2013', '2011', '2008',\n",
       "       '2009', '2007'], dtype=object)"
      ]
     },
     "execution_count": 50,
     "metadata": {},
     "output_type": "execute_result"
    }
   ],
   "source": [
    "df['publishedAtyear'] = df['publishedAtyear'].apply(lambda x:x.split('-')[0])\n",
    "df['publishedAtyear'].unique()"
   ]
  },
  {
   "cell_type": "code",
   "execution_count": 45,
   "id": "8a38bf32",
   "metadata": {},
   "outputs": [
    {
     "data": {
      "text/plain": [
       "0      01\n",
       "1      06\n",
       "2      05\n",
       "3      01\n",
       "4      08\n",
       "       ..\n",
       "110    03\n",
       "111    08\n",
       "112    05\n",
       "113    04\n",
       "114    08\n",
       "Name: publishedAtmonth, Length: 115, dtype: object"
      ]
     },
     "execution_count": 45,
     "metadata": {},
     "output_type": "execute_result"
    }
   ],
   "source": [
    "df['publishedAtmonth'] = df['publishedAtyear'].apply(lambda x:x.split('-')[1])\n",
    "df['publishedAtmonth']"
   ]
  },
  {
   "cell_type": "code",
   "execution_count": 47,
   "id": "1c929781",
   "metadata": {},
   "outputs": [
    {
     "data": {
      "text/plain": [
       "0      10\n",
       "1      18\n",
       "2      01\n",
       "3      25\n",
       "4      15\n",
       "       ..\n",
       "110    25\n",
       "111    20\n",
       "112    19\n",
       "113    15\n",
       "114    19\n",
       "Name: publishedAtday, Length: 115, dtype: object"
      ]
     },
     "execution_count": 47,
     "metadata": {},
     "output_type": "execute_result"
    }
   ],
   "source": [
    "df['publishedAtday'] = df['publishedAtyear'].apply(lambda x:x.split('-')[2])\n",
    "df['publishedAtday']"
   ]
  },
  {
   "cell_type": "code",
   "execution_count": 52,
   "id": "3e02e676",
   "metadata": {},
   "outputs": [
    {
     "data": {
      "text/plain": [
       "<AxesSubplot:xlabel='publishedAtyear', ylabel='count'>"
      ]
     },
     "execution_count": 52,
     "metadata": {},
     "output_type": "execute_result"
    },
    {
     "data": {
      "image/png": "[encoded data removed]",
      "text/plain": [
       "<Figure size 432x288 with 1 Axes>"
      ]
     },
     "metadata": {
      "needs_background": "light"
     },
     "output_type": "display_data"
    }
   ],
   "source": [
    "sb.countplot('publishedAtyear',data=df)"
   ]
  },
  {
   "cell_type": "code",
   "execution_count": 53,
   "id": "3befc1b2",
   "metadata": {},
   "outputs": [
    {
     "name": "stderr",
     "output_type": "stream",
     "text": [
      "C:\\Users\\navan\\py\\lib\\site-packages\\seaborn\\_decorators.py:36: FutureWarning: Pass the following variable as a keyword arg: x. From version 0.12, the only valid positional argument will be `data`, and passing other arguments without an explicit keyword will result in an error or misinterpretation.\n",
      "  warnings.warn(\n"
     ]
    },
    {
     "data": {
      "text/plain": [
       "<AxesSubplot:xlabel='publishedAtmonth', ylabel='count'>"
      ]
     },
     "execution_count": 53,
     "metadata": {},
     "output_type": "execute_result"
    },
    {
     "data": {
      "image/png": "[encoded data removed]",
      "text/plain": [
       "<Figure size 432x288 with 1 Axes>"
      ]
     },
     "metadata": {
      "needs_background": "light"
     },
     "output_type": "display_data"
    }
   ],
   "source": [
    "sb.countplot('publishedAtmonth',data=df)"
   ]
  },
  {
   "cell_type": "code",
   "execution_count": 55,
   "id": "d0063def",
   "metadata": {},
   "outputs": [
    {
     "name": "stderr",
     "output_type": "stream",
     "text": [
      "C:\\Users\\navan\\py\\lib\\site-packages\\seaborn\\_decorators.py:36: FutureWarning: Pass the following variable as a keyword arg: x. From version 0.12, the only valid positional argument will be `data`, and passing other arguments without an explicit keyword will result in an error or misinterpretation.\n",
      "  warnings.warn(\n"
     ]
    },
    {
     "data": {
      "text/plain": [
       "<AxesSubplot:xlabel='publishedAtday', ylabel='count'>"
      ]
     },
     "execution_count": 55,
     "metadata": {},
     "output_type": "execute_result"
    },
    {
     "data": {
      "image/png": "[encoded data removed]",
      "text/plain": [
       "<Figure size 864x432 with 1 Axes>"
      ]
     },
     "metadata": {
      "needs_background": "light"
     },
     "output_type": "display_data"
    }
   ],
   "source": [
    "pt.rcParams['figure.figsize'] = (12,6)\n",
    "sb.countplot('publishedAtday',data=df)"
   ]
  },
  {
   "cell_type": "code",
   "execution_count": 77,
   "id": "03c11c1f",
   "metadata": {},
   "outputs": [
    {
     "name": "stderr",
     "output_type": "stream",
     "text": [
      "C:\\Users\\navan\\py\\lib\\site-packages\\seaborn\\_decorators.py:36: FutureWarning: Pass the following variable as a keyword arg: x. From version 0.12, the only valid positional argument will be `data`, and passing other arguments without an explicit keyword will result in an error or misinterpretation.\n",
      "  warnings.warn(\n"
     ]
    },
    {
     "data": {
      "text/plain": [
       "<AxesSubplot:xlabel='publishedAtyear', ylabel='count'>"
      ]
     },
     "execution_count": 77,
     "metadata": {},
     "output_type": "execute_result"
    },
    {
     "data": {
      "image/png": "[encoded data removed]",
      "text/plain": [
       "<Figure size 864x432 with 1 Axes>"
      ]
     },
     "metadata": {
      "needs_background": "light"
     },
     "output_type": "display_data"
    }
   ],
   "source": [
    "sb.countplot('publishedAtyear',hue='likeCount',data=df)"
   ]
  },
  {
   "cell_type": "code",
   "execution_count": 67,
   "id": "7db2c261",
   "metadata": {},
   "outputs": [
    {
     "name": "stderr",
     "output_type": "stream",
     "text": [
      "C:\\Users\\navan\\AppData\\Local\\Temp\\ipykernel_21548\\1917274920.py:1: FutureWarning: Dropping of nuisance columns in DataFrame reductions (with 'numeric_only=None') is deprecated; in a future version this will raise TypeError.  Select only valid columns before calling the reduction.\n",
      "  df[df['publishedAtyear']=='2015'].sum()\n"
     ]
    },
    {
     "data": {
      "text/plain": [
       "Unnamed: 0                                                         2090\n",
       "channelId             UCLuO2lUqHrPIIpx0hFenV2gUCxSbJSgLqIO8r7TONBN5d...\n",
       "channelTitle          Tink Tink ClubOracle Frequency PodcastPsychedS...\n",
       "videoId               cuJjSeHZIrgU6Ecm1Kb4AIUGxSZqTZVaUcnFTo2zFUgwBp...\n",
       "publishedAt           2015-06-18T16:56:04.000Z2015-10-11T06:52:13.00...\n",
       "videoTitle            Episode 35 - Dr. James FadimanMicrodosing Psil...\n",
       "videoCategoryId                                                     924\n",
       "videoCategoryLabel    People & BlogsEntertainmentScience & Technolog...\n",
       "duration              PT1H12M34SPT25M7SPT13M25SPT12M32SPT10M14SPT9M4...\n",
       "durationSec                                                       16012\n",
       "definition            sdhdhdhdsdsdhdhdsdhdsdhdhdhdhdhdhdhdhdhdhdhdsd...\n",
       "caption                                                               0\n",
       "viewCount                                                        738189\n",
       "likeCount                                                       10355.0\n",
       "dislikeCount                                                      510.0\n",
       "commentCount                                                     3438.0\n",
       "publishedAtyear       2015201520152015201520152015201520152015201520...\n",
       "publishedAtmonth      0610091212050606120209101111060512071007070506...\n",
       "publishedAtday        1811120522181818141416101310260601081208142717...\n",
       "dtype: object"
      ]
     },
     "execution_count": 67,
     "metadata": {},
     "output_type": "execute_result"
    }
   ],
   "source": [
    "df[df['publishedAtyear']=='2015'].sum()"
   ]
  },
  {
   "cell_type": "code",
   "execution_count": 63,
   "id": "7e656656",
   "metadata": {},
   "outputs": [
    {
     "data": {
      "text/plain": [
       "0      False\n",
       "1       True\n",
       "2      False\n",
       "3      False\n",
       "4      False\n",
       "       ...  \n",
       "110    False\n",
       "111    False\n",
       "112    False\n",
       "113    False\n",
       "114     True\n",
       "Name: publishedAtyear, Length: 115, dtype: bool"
      ]
     },
     "execution_count": 63,
     "metadata": {},
     "output_type": "execute_result"
    }
   ],
   "source": [
    "df['publishedAtyear']=='2015'"
   ]
  },
  {
   "cell_type": "code",
   "execution_count": 71,
   "id": "8faada55",
   "metadata": {},
   "outputs": [],
   "source": [
    "mini = df[df['likeCount'] == 8.0]"
   ]
  },
  {
   "cell_type": "code",
   "execution_count": 72,
   "id": "008a297c",
   "metadata": {},
   "outputs": [
    {
     "data": {
      "text/html": [
       "<div>\n",
       "<style scoped>\n",
       "    .dataframe tbody tr th:only-of-type {\n",
       "        vertical-align: middle;\n",
       "    }\n",
       "\n",
       "    .dataframe tbody tr th {\n",
       "        vertical-align: top;\n",
       "    }\n",
       "\n",
       "    .dataframe thead th {\n",
       "        text-align: right;\n",
       "    }\n",
       "</style>\n",
       "<table border=\"1\" class=\"dataframe\">\n",
       "  <thead>\n",
       "    <tr style=\"text-align: right;\">\n",
       "      <th></th>\n",
       "      <th>Unnamed: 0</th>\n",
       "      <th>channelId</th>\n",
       "      <th>channelTitle</th>\n",
       "      <th>videoId</th>\n",
       "      <th>publishedAt</th>\n",
       "      <th>videoTitle</th>\n",
       "      <th>videoDescription</th>\n",
       "      <th>videoCategoryId</th>\n",
       "      <th>videoCategoryLabel</th>\n",
       "      <th>duration</th>\n",
       "      <th>durationSec</th>\n",
       "      <th>definition</th>\n",
       "      <th>caption</th>\n",
       "      <th>viewCount</th>\n",
       "      <th>likeCount</th>\n",
       "      <th>dislikeCount</th>\n",
       "      <th>commentCount</th>\n",
       "      <th>publishedAtyear</th>\n",
       "      <th>publishedAtmonth</th>\n",
       "      <th>publishedAtday</th>\n",
       "    </tr>\n",
       "  </thead>\n",
       "  <tbody>\n",
       "    <tr>\n",
       "      <th>0</th>\n",
       "      <td>0</td>\n",
       "      <td>UCU1_l0ZJyTK_7HZZ3Ruw8Dg</td>\n",
       "      <td>MAPS</td>\n",
       "      <td>pTnk3ziVVRM</td>\n",
       "      <td>2014-01-10T01:24:57.000Z</td>\n",
       "      <td>Psychedelic Horizons Beyond Psychotherapy Work...</td>\n",
       "      <td>Watch the full workshop at http://psychedelics...</td>\n",
       "      <td>29</td>\n",
       "      <td>Nonprofits &amp; Activism</td>\n",
       "      <td>PT1H19M40S</td>\n",
       "      <td>4780</td>\n",
       "      <td>hd</td>\n",
       "      <td>False</td>\n",
       "      <td>1512</td>\n",
       "      <td>8.0</td>\n",
       "      <td>0.0</td>\n",
       "      <td>1.0</td>\n",
       "      <td>2014</td>\n",
       "      <td>01</td>\n",
       "      <td>10</td>\n",
       "    </tr>\n",
       "    <tr>\n",
       "      <th>36</th>\n",
       "      <td>36</td>\n",
       "      <td>UC7wOvqC3gyy45Eevq-ZSokw</td>\n",
       "      <td>jayurbzz</td>\n",
       "      <td>GpCpDsPuZO4</td>\n",
       "      <td>2016-03-02T21:05:30.000Z</td>\n",
       "      <td>Microdosing LSD (2/5): Staying Present in Real...</td>\n",
       "      <td>For educational purposes: what to (kind of) ex...</td>\n",
       "      <td>19</td>\n",
       "      <td>Travel &amp; Events</td>\n",
       "      <td>PT6M17S</td>\n",
       "      <td>377</td>\n",
       "      <td>hd</td>\n",
       "      <td>False</td>\n",
       "      <td>843</td>\n",
       "      <td>8.0</td>\n",
       "      <td>0.0</td>\n",
       "      <td>12.0</td>\n",
       "      <td>2016</td>\n",
       "      <td>03</td>\n",
       "      <td>02</td>\n",
       "    </tr>\n",
       "    <tr>\n",
       "      <th>48</th>\n",
       "      <td>48</td>\n",
       "      <td>UCnY0P7Z7FBMMIoHC2zUJVIQ</td>\n",
       "      <td>Nutristore</td>\n",
       "      <td>hF3mEHe3klk</td>\n",
       "      <td>2014-10-25T02:52:13.000Z</td>\n",
       "      <td>CON-CRET CREATINE MICRO-DOSING 48 Servicios PR...</td>\n",
       "      <td>CON-CRET CREATINE MICRO-DOSING 48 Servicios PR...</td>\n",
       "      <td>17</td>\n",
       "      <td>Sports</td>\n",
       "      <td>PT4M34S</td>\n",
       "      <td>274</td>\n",
       "      <td>hd</td>\n",
       "      <td>False</td>\n",
       "      <td>1805</td>\n",
       "      <td>8.0</td>\n",
       "      <td>1.0</td>\n",
       "      <td>0.0</td>\n",
       "      <td>2014</td>\n",
       "      <td>10</td>\n",
       "      <td>25</td>\n",
       "    </tr>\n",
       "    <tr>\n",
       "      <th>79</th>\n",
       "      <td>79</td>\n",
       "      <td>UCI-jLIlZKXHCZApl3VvWfgQ</td>\n",
       "      <td>The Awakened Brave!</td>\n",
       "      <td>u2tG09c5Wfw</td>\n",
       "      <td>2016-03-12T17:41:30.000Z</td>\n",
       "      <td>Shroom Experiment, Micro dosing. Day 12.</td>\n",
       "      <td>Continuing my micro dosing experience and obse...</td>\n",
       "      <td>22</td>\n",
       "      <td>People &amp; Blogs</td>\n",
       "      <td>PT1M56S</td>\n",
       "      <td>116</td>\n",
       "      <td>hd</td>\n",
       "      <td>False</td>\n",
       "      <td>243</td>\n",
       "      <td>8.0</td>\n",
       "      <td>0.0</td>\n",
       "      <td>9.0</td>\n",
       "      <td>2016</td>\n",
       "      <td>03</td>\n",
       "      <td>12</td>\n",
       "    </tr>\n",
       "  </tbody>\n",
       "</table>\n",
       "</div>"
      ],
      "text/plain": [
       "    Unnamed: 0                 channelId         channelTitle      videoId  \\\n",
       "0            0  UCU1_l0ZJyTK_7HZZ3Ruw8Dg                 MAPS  pTnk3ziVVRM   \n",
       "36          36  UC7wOvqC3gyy45Eevq-ZSokw             jayurbzz  GpCpDsPuZO4   \n",
       "48          48  UCnY0P7Z7FBMMIoHC2zUJVIQ           Nutristore  hF3mEHe3klk   \n",
       "79          79  UCI-jLIlZKXHCZApl3VvWfgQ  The Awakened Brave!  u2tG09c5Wfw   \n",
       "\n",
       "                 publishedAt  \\\n",
       "0   2014-01-10T01:24:57.000Z   \n",
       "36  2016-03-02T21:05:30.000Z   \n",
       "48  2014-10-25T02:52:13.000Z   \n",
       "79  2016-03-12T17:41:30.000Z   \n",
       "\n",
       "                                           videoTitle  \\\n",
       "0   Psychedelic Horizons Beyond Psychotherapy Work...   \n",
       "36  Microdosing LSD (2/5): Staying Present in Real...   \n",
       "48  CON-CRET CREATINE MICRO-DOSING 48 Servicios PR...   \n",
       "79           Shroom Experiment, Micro dosing. Day 12.   \n",
       "\n",
       "                                     videoDescription  videoCategoryId  \\\n",
       "0   Watch the full workshop at http://psychedelics...               29   \n",
       "36  For educational purposes: what to (kind of) ex...               19   \n",
       "48  CON-CRET CREATINE MICRO-DOSING 48 Servicios PR...               17   \n",
       "79  Continuing my micro dosing experience and obse...               22   \n",
       "\n",
       "       videoCategoryLabel    duration  durationSec definition  caption  \\\n",
       "0   Nonprofits & Activism  PT1H19M40S         4780         hd    False   \n",
       "36        Travel & Events     PT6M17S          377         hd    False   \n",
       "48                 Sports     PT4M34S          274         hd    False   \n",
       "79         People & Blogs     PT1M56S          116         hd    False   \n",
       "\n",
       "    viewCount  likeCount  dislikeCount  commentCount publishedAtyear  \\\n",
       "0        1512        8.0           0.0           1.0            2014   \n",
       "36        843        8.0           0.0          12.0            2016   \n",
       "48       1805        8.0           1.0           0.0            2014   \n",
       "79        243        8.0           0.0           9.0            2016   \n",
       "\n",
       "   publishedAtmonth publishedAtday  \n",
       "0                01             10  \n",
       "36               03             02  \n",
       "48               10             25  \n",
       "79               03             12  "
      ]
     },
     "execution_count": 72,
     "metadata": {},
     "output_type": "execute_result"
    }
   ],
   "source": [
    "mini"
   ]
  },
  {
   "cell_type": "code",
   "execution_count": 74,
   "id": "abadc8f6",
   "metadata": {},
   "outputs": [
    {
     "name": "stderr",
     "output_type": "stream",
     "text": [
      "C:\\Users\\navan\\py\\lib\\site-packages\\seaborn\\_decorators.py:36: FutureWarning: Pass the following variables as keyword args: x, y. From version 0.12, the only valid positional argument will be `data`, and passing other arguments without an explicit keyword will result in an error or misinterpretation.\n",
      "  warnings.warn(\n"
     ]
    },
    {
     "data": {
      "text/plain": [
       "<AxesSubplot:xlabel='publishedAtyear', ylabel='likeCount'>"
      ]
     },
     "execution_count": 74,
     "metadata": {},
     "output_type": "execute_result"
    },
    {
     "data": {
      "image/png": "[encoded data removed]",
      "text/plain": [
       "<Figure size 864x432 with 1 Axes>"
      ]
     },
     "metadata": {
      "needs_background": "light"
     },
     "output_type": "display_data"
    }
   ],
   "source": [
    "sb.barplot('publishedAtyear','likeCount',data=mini)"
   ]
  },
  {
   "cell_type": "code",
   "execution_count": 79,
   "id": "784d972d",
   "metadata": {},
   "outputs": [
    {
     "data": {
      "text/html": [
       "<div>\n",
       "<style scoped>\n",
       "    .dataframe tbody tr th:only-of-type {\n",
       "        vertical-align: middle;\n",
       "    }\n",
       "\n",
       "    .dataframe tbody tr th {\n",
       "        vertical-align: top;\n",
       "    }\n",
       "\n",
       "    .dataframe thead th {\n",
       "        text-align: right;\n",
       "    }\n",
       "</style>\n",
       "<table border=\"1\" class=\"dataframe\">\n",
       "  <thead>\n",
       "    <tr style=\"text-align: right;\">\n",
       "      <th></th>\n",
       "      <th>publishedAtyear</th>\n",
       "      <th>likeCount</th>\n",
       "      <th>0</th>\n",
       "    </tr>\n",
       "  </thead>\n",
       "  <tbody>\n",
       "    <tr>\n",
       "      <th>0</th>\n",
       "      <td>2014</td>\n",
       "      <td>8.0</td>\n",
       "      <td>2</td>\n",
       "    </tr>\n",
       "    <tr>\n",
       "      <th>1</th>\n",
       "      <td>2016</td>\n",
       "      <td>8.0</td>\n",
       "      <td>2</td>\n",
       "    </tr>\n",
       "  </tbody>\n",
       "</table>\n",
       "</div>"
      ],
      "text/plain": [
       "  publishedAtyear  likeCount  0\n",
       "0            2014        8.0  2\n",
       "1            2016        8.0  2"
      ]
     },
     "execution_count": 79,
     "metadata": {},
     "output_type": "execute_result"
    }
   ],
   "source": [
    "mini.groupby(['publishedAtyear','likeCount']).size().reset_index()"
   ]
  },
  {
   "cell_type": "code",
   "execution_count": 80,
   "id": "0b4f45f0",
   "metadata": {},
   "outputs": [
    {
     "name": "stdout",
     "output_type": "stream",
     "text": [
      "<class 'pandas.core.frame.DataFrame'>\n",
      "RangeIndex: 115 entries, 0 to 114\n",
      "Data columns (total 20 columns):\n",
      " #   Column              Non-Null Count  Dtype  \n",
      "---  ------              --------------  -----  \n",
      " 0   Unnamed: 0          115 non-null    int64  \n",
      " 1   channelId           115 non-null    object \n",
      " 2   channelTitle        115 non-null    object \n",
      " 3   videoId             115 non-null    object \n",
      " 4   publishedAt         115 non-null    object \n",
      " 5   videoTitle          115 non-null    object \n",
      " 6   videoDescription    109 non-null    object \n",
      " 7   videoCategoryId     115 non-null    int64  \n",
      " 8   videoCategoryLabel  115 non-null    object \n",
      " 9   duration            115 non-null    object \n",
      " 10  durationSec         115 non-null    int64  \n",
      " 11  definition          115 non-null    object \n",
      " 12  caption             115 non-null    bool   \n",
      " 13  viewCount           115 non-null    int64  \n",
      " 14  likeCount           111 non-null    float64\n",
      " 15  dislikeCount        111 non-null    float64\n",
      " 16  commentCount        113 non-null    float64\n",
      " 17  publishedAtyear     115 non-null    object \n",
      " 18  publishedAtmonth    115 non-null    object \n",
      " 19  publishedAtday      115 non-null    object \n",
      "dtypes: bool(1), float64(3), int64(4), object(12)\n",
      "memory usage: 17.3+ KB\n"
     ]
    }
   ],
   "source": [
    "df.info()"
   ]
  },
  {
   "cell_type": "code",
   "execution_count": 81,
   "id": "7f3e208b",
   "metadata": {},
   "outputs": [
    {
     "name": "stderr",
     "output_type": "stream",
     "text": [
      "C:\\Users\\navan\\py\\lib\\site-packages\\seaborn\\_decorators.py:36: FutureWarning: Pass the following variables as keyword args: x, y. From version 0.12, the only valid positional argument will be `data`, and passing other arguments without an explicit keyword will result in an error or misinterpretation.\n",
      "  warnings.warn(\n"
     ]
    },
    {
     "data": {
      "text/plain": [
       "<AxesSubplot:xlabel='publishedAtyear', ylabel='viewCount'>"
      ]
     },
     "execution_count": 81,
     "metadata": {},
     "output_type": "execute_result"
    },
    {
     "data": {
      "image/png": "[encoded data removed]",
      "text/plain": [
       "<Figure size 864x432 with 1 Axes>"
      ]
     },
     "metadata": {
      "needs_background": "light"
     },
     "output_type": "display_data"
    }
   ],
   "source": [
    "sb.scatterplot('publishedAtyear','viewCount',data=df)"
   ]
  },
  {
   "cell_type": "code",
   "execution_count": 82,
   "id": "26d29e21",
   "metadata": {},
   "outputs": [
    {
     "name": "stderr",
     "output_type": "stream",
     "text": [
      "C:\\Users\\navan\\py\\lib\\site-packages\\seaborn\\_decorators.py:36: FutureWarning: Pass the following variables as keyword args: x, y. From version 0.12, the only valid positional argument will be `data`, and passing other arguments without an explicit keyword will result in an error or misinterpretation.\n",
      "  warnings.warn(\n"
     ]
    },
    {
     "data": {
      "text/plain": [
       "<AxesSubplot:xlabel='publishedAtmonth', ylabel='viewCount'>"
      ]
     },
     "execution_count": 82,
     "metadata": {},
     "output_type": "execute_result"
    },
    {
     "data": {
      "image/png": "[encoded data removed]",
      "text/plain": [
       "<Figure size 864x432 with 1 Axes>"
      ]
     },
     "metadata": {
      "needs_background": "light"
     },
     "output_type": "display_data"
    }
   ],
   "source": [
    "sb.scatterplot('publishedAtmonth','viewCount',data=df)"
   ]
  },
  {
   "cell_type": "code",
   "execution_count": 83,
   "id": "1375b43a",
   "metadata": {},
   "outputs": [
    {
     "name": "stderr",
     "output_type": "stream",
     "text": [
      "C:\\Users\\navan\\py\\lib\\site-packages\\seaborn\\_decorators.py:36: FutureWarning: Pass the following variable as a keyword arg: x. From version 0.12, the only valid positional argument will be `data`, and passing other arguments without an explicit keyword will result in an error or misinterpretation.\n",
      "  warnings.warn(\n"
     ]
    },
    {
     "data": {
      "text/plain": [
       "<AxesSubplot:xlabel='viewCount'>"
      ]
     },
     "execution_count": 83,
     "metadata": {},
     "output_type": "execute_result"
    },
    {
     "data": {
      "image/png": "[encoded data removed]",
      "text/plain": [
       "<Figure size 864x432 with 1 Axes>"
      ]
     },
     "metadata": {
      "needs_background": "light"
     },
     "output_type": "display_data"
    }
   ],
   "source": [
    "sb.barplot('viewCount',data=df)"
   ]
  },
  {
   "cell_type": "code",
   "execution_count": 84,
   "id": "7fbbdac4",
   "metadata": {},
   "outputs": [],
   "source": [
    "sortOrder = df['publishedAtyear']"
   ]
  },
  {
   "cell_type": "code",
   "execution_count": 89,
   "id": "e20f89cf",
   "metadata": {},
   "outputs": [],
   "source": [
    "sortOrder = sortOrder.sort_values()"
   ]
  },
  {
   "cell_type": "raw",
   "id": "f7eaeac1",
   "metadata": {},
   "source": [
    "sortOrder"
   ]
  },
  {
   "cell_type": "code",
   "execution_count": 90,
   "id": "12f36118",
   "metadata": {},
   "outputs": [
    {
     "data": {
      "text/plain": [
       "67    2007\n",
       "49    2008\n",
       "62    2009\n",
       "99    2009\n",
       "57    2010\n",
       "      ... \n",
       "53    2016\n",
       "85    2016\n",
       "51    2016\n",
       "77    2016\n",
       "75    2016\n",
       "Name: publishedAtyear, Length: 115, dtype: object"
      ]
     },
     "execution_count": 90,
     "metadata": {},
     "output_type": "execute_result"
    }
   ],
   "source": [
    "sortOrder"
   ]
  },
  {
   "cell_type": "code",
   "execution_count": 93,
   "id": "4d8031e5",
   "metadata": {},
   "outputs": [
    {
     "name": "stdout",
     "output_type": "stream",
     "text": [
      "<class 'pandas.core.frame.DataFrame'>\n",
      "RangeIndex: 115 entries, 0 to 114\n",
      "Data columns (total 20 columns):\n",
      " #   Column              Non-Null Count  Dtype  \n",
      "---  ------              --------------  -----  \n",
      " 0   Unnamed: 0          115 non-null    int64  \n",
      " 1   channelId           115 non-null    object \n",
      " 2   channelTitle        115 non-null    object \n",
      " 3   videoId             115 non-null    object \n",
      " 4   publishedAt         115 non-null    object \n",
      " 5   videoTitle          115 non-null    object \n",
      " 6   videoDescription    109 non-null    object \n",
      " 7   videoCategoryId     115 non-null    int64  \n",
      " 8   videoCategoryLabel  115 non-null    object \n",
      " 9   duration            115 non-null    object \n",
      " 10  durationSec         115 non-null    int64  \n",
      " 11  definition          115 non-null    object \n",
      " 12  caption             115 non-null    bool   \n",
      " 13  viewCount           115 non-null    int64  \n",
      " 14  likeCount           111 non-null    float64\n",
      " 15  dislikeCount        111 non-null    float64\n",
      " 16  commentCount        113 non-null    float64\n",
      " 17  publishedAtyear     115 non-null    object \n",
      " 18  publishedAtmonth    115 non-null    object \n",
      " 19  publishedAtday      115 non-null    object \n",
      "dtypes: bool(1), float64(3), int64(4), object(12)\n",
      "memory usage: 17.3+ KB\n"
     ]
    }
   ],
   "source": [
    "df.info()"
   ]
  },
  {
   "cell_type": "code",
   "execution_count": 98,
   "id": "eb024c64",
   "metadata": {},
   "outputs": [],
   "source": [
    "df = df.sort_values('publishedAtyear')"
   ]
  },
  {
   "cell_type": "code",
   "execution_count": 99,
   "id": "17ed6f02",
   "metadata": {},
   "outputs": [
    {
     "name": "stderr",
     "output_type": "stream",
     "text": [
      "C:\\Users\\navan\\py\\lib\\site-packages\\seaborn\\_decorators.py:36: FutureWarning: Pass the following variables as keyword args: x, y. From version 0.12, the only valid positional argument will be `data`, and passing other arguments without an explicit keyword will result in an error or misinterpretation.\n",
      "  warnings.warn(\n"
     ]
    },
    {
     "data": {
      "text/plain": [
       "<AxesSubplot:xlabel='publishedAtyear', ylabel='viewCount'>"
      ]
     },
     "execution_count": 99,
     "metadata": {},
     "output_type": "execute_result"
    },
    {
     "data": {
      "image/png": "[encoded data removed]",
      "text/plain": [
       "<Figure size 864x432 with 1 Axes>"
      ]
     },
     "metadata": {
      "needs_background": "light"
     },
     "output_type": "display_data"
    }
   ],
   "source": [
    "sb.scatterplot('publishedAtyear','viewCount',data=df)"
   ]
  },
  {
   "cell_type": "code",
   "execution_count": 101,
   "id": "5b8b82c5",
   "metadata": {},
   "outputs": [
    {
     "data": {
      "text/plain": [
       "526243"
      ]
     },
     "execution_count": 101,
     "metadata": {},
     "output_type": "execute_result"
    }
   ],
   "source": [
    "df['viewCount'].max()"
   ]
  },
  {
   "cell_type": "code",
   "execution_count": 102,
   "id": "acbbd66e",
   "metadata": {},
   "outputs": [
    {
     "data": {
      "text/html": [
       "<div>\n",
       "<style scoped>\n",
       "    .dataframe tbody tr th:only-of-type {\n",
       "        vertical-align: middle;\n",
       "    }\n",
       "\n",
       "    .dataframe tbody tr th {\n",
       "        vertical-align: top;\n",
       "    }\n",
       "\n",
       "    .dataframe thead th {\n",
       "        text-align: right;\n",
       "    }\n",
       "</style>\n",
       "<table border=\"1\" class=\"dataframe\">\n",
       "  <thead>\n",
       "    <tr style=\"text-align: right;\">\n",
       "      <th></th>\n",
       "      <th>Unnamed: 0</th>\n",
       "      <th>channelId</th>\n",
       "      <th>channelTitle</th>\n",
       "      <th>videoId</th>\n",
       "      <th>publishedAt</th>\n",
       "      <th>videoTitle</th>\n",
       "      <th>videoDescription</th>\n",
       "      <th>videoCategoryId</th>\n",
       "      <th>videoCategoryLabel</th>\n",
       "      <th>duration</th>\n",
       "      <th>durationSec</th>\n",
       "      <th>definition</th>\n",
       "      <th>caption</th>\n",
       "      <th>viewCount</th>\n",
       "      <th>likeCount</th>\n",
       "      <th>dislikeCount</th>\n",
       "      <th>commentCount</th>\n",
       "      <th>publishedAtyear</th>\n",
       "      <th>publishedAtmonth</th>\n",
       "      <th>publishedAtday</th>\n",
       "    </tr>\n",
       "  </thead>\n",
       "  <tbody>\n",
       "    <tr>\n",
       "      <th>9</th>\n",
       "      <td>9</td>\n",
       "      <td>UCn8V3KNSgDr1Dai77_y8JrQ</td>\n",
       "      <td>PsychedSubstance</td>\n",
       "      <td>UGxSZqTZVaU</td>\n",
       "      <td>2015-09-12T13:44:39.000Z</td>\n",
       "      <td>Microdosing LSD or any Psychedelic</td>\n",
       "      <td>How to microdose psychedelics! Everything you ...</td>\n",
       "      <td>28</td>\n",
       "      <td>Science &amp; Technology</td>\n",
       "      <td>PT13M25S</td>\n",
       "      <td>805</td>\n",
       "      <td>hd</td>\n",
       "      <td>False</td>\n",
       "      <td>526243</td>\n",
       "      <td>7046.0</td>\n",
       "      <td>255.0</td>\n",
       "      <td>1706.0</td>\n",
       "      <td>2015</td>\n",
       "      <td>09</td>\n",
       "      <td>12</td>\n",
       "    </tr>\n",
       "  </tbody>\n",
       "</table>\n",
       "</div>"
      ],
      "text/plain": [
       "   Unnamed: 0                 channelId      channelTitle      videoId  \\\n",
       "9           9  UCn8V3KNSgDr1Dai77_y8JrQ  PsychedSubstance  UGxSZqTZVaU   \n",
       "\n",
       "                publishedAt                          videoTitle  \\\n",
       "9  2015-09-12T13:44:39.000Z  Microdosing LSD or any Psychedelic   \n",
       "\n",
       "                                    videoDescription  videoCategoryId  \\\n",
       "9  How to microdose psychedelics! Everything you ...               28   \n",
       "\n",
       "     videoCategoryLabel  duration  durationSec definition  caption  viewCount  \\\n",
       "9  Science & Technology  PT13M25S          805         hd    False     526243   \n",
       "\n",
       "   likeCount  dislikeCount  commentCount publishedAtyear publishedAtmonth  \\\n",
       "9     7046.0         255.0        1706.0            2015               09   \n",
       "\n",
       "  publishedAtday  \n",
       "9             12  "
      ]
     },
     "execution_count": 102,
     "metadata": {},
     "output_type": "execute_result"
    }
   ],
   "source": [
    "df[df['viewCount']==526243]"
   ]
  },
  {
   "cell_type": "code",
   "execution_count": 106,
   "id": "6838d039",
   "metadata": {},
   "outputs": [
    {
     "data": {
      "text/html": [
       "<div>\n",
       "<style scoped>\n",
       "    .dataframe tbody tr th:only-of-type {\n",
       "        vertical-align: middle;\n",
       "    }\n",
       "\n",
       "    .dataframe tbody tr th {\n",
       "        vertical-align: top;\n",
       "    }\n",
       "\n",
       "    .dataframe thead th {\n",
       "        text-align: right;\n",
       "    }\n",
       "</style>\n",
       "<table border=\"1\" class=\"dataframe\">\n",
       "  <thead>\n",
       "    <tr style=\"text-align: right;\">\n",
       "      <th></th>\n",
       "      <th>Unnamed: 0</th>\n",
       "      <th>channelId</th>\n",
       "      <th>channelTitle</th>\n",
       "      <th>videoId</th>\n",
       "      <th>publishedAt</th>\n",
       "      <th>videoTitle</th>\n",
       "      <th>videoDescription</th>\n",
       "      <th>videoCategoryId</th>\n",
       "      <th>videoCategoryLabel</th>\n",
       "      <th>duration</th>\n",
       "      <th>durationSec</th>\n",
       "      <th>definition</th>\n",
       "      <th>caption</th>\n",
       "      <th>viewCount</th>\n",
       "      <th>likeCount</th>\n",
       "      <th>dislikeCount</th>\n",
       "      <th>commentCount</th>\n",
       "      <th>publishedAtyear</th>\n",
       "      <th>publishedAtmonth</th>\n",
       "      <th>publishedAtday</th>\n",
       "    </tr>\n",
       "  </thead>\n",
       "  <tbody>\n",
       "    <tr>\n",
       "      <th>45</th>\n",
       "      <td>45</td>\n",
       "      <td>UCm6dPJ_2VwvfB1c873IUMHg</td>\n",
       "      <td>Luna Sky Diamond</td>\n",
       "      <td>i4OiWEhPP6g</td>\n",
       "      <td>2016-04-17T00:44:15.000Z</td>\n",
       "      <td>Become your Own Guru by micro-dosing on LSD!</td>\n",
       "      <td>Micro-dosing on LSD, A THERAPEUTICAL APPROACH ...</td>\n",
       "      <td>22</td>\n",
       "      <td>People &amp; Blogs</td>\n",
       "      <td>PT4M43S</td>\n",
       "      <td>283</td>\n",
       "      <td>hd</td>\n",
       "      <td>False</td>\n",
       "      <td>130</td>\n",
       "      <td>2.0</td>\n",
       "      <td>1.0</td>\n",
       "      <td>1.0</td>\n",
       "      <td>2016</td>\n",
       "      <td>04</td>\n",
       "      <td>17</td>\n",
       "    </tr>\n",
       "    <tr>\n",
       "      <th>98</th>\n",
       "      <td>98</td>\n",
       "      <td>UC3M1LDs2tSg0Gy3iCqMLGRg</td>\n",
       "      <td>Nöron Mühendislik</td>\n",
       "      <td>xaBXBLRnCyI</td>\n",
       "      <td>2016-01-26T22:16:07.000Z</td>\n",
       "      <td>Micro Dosing System 05 (farina) (Hassas Dozajl...</td>\n",
       "      <td>Micro Dosing System 03 (farina) (Hassas Dozajl...</td>\n",
       "      <td>28</td>\n",
       "      <td>Science &amp; Technology</td>\n",
       "      <td>PT1M3S</td>\n",
       "      <td>63</td>\n",
       "      <td>hd</td>\n",
       "      <td>False</td>\n",
       "      <td>209</td>\n",
       "      <td>0.0</td>\n",
       "      <td>0.0</td>\n",
       "      <td>0.0</td>\n",
       "      <td>2016</td>\n",
       "      <td>01</td>\n",
       "      <td>26</td>\n",
       "    </tr>\n",
       "    <tr>\n",
       "      <th>96</th>\n",
       "      <td>96</td>\n",
       "      <td>UC3M1LDs2tSg0Gy3iCqMLGRg</td>\n",
       "      <td>Nöron Mühendislik</td>\n",
       "      <td>_s03zFqdM2o</td>\n",
       "      <td>2016-01-21T17:53:45.000Z</td>\n",
       "      <td>Micro Dosing System 02 (Hassas Dozajlama Siste...</td>\n",
       "      <td>www.noronmuhendislik.com mısır, corn micro mik...</td>\n",
       "      <td>28</td>\n",
       "      <td>Science &amp; Technology</td>\n",
       "      <td>PT1M6S</td>\n",
       "      <td>66</td>\n",
       "      <td>hd</td>\n",
       "      <td>False</td>\n",
       "      <td>335</td>\n",
       "      <td>0.0</td>\n",
       "      <td>0.0</td>\n",
       "      <td>1.0</td>\n",
       "      <td>2016</td>\n",
       "      <td>01</td>\n",
       "      <td>21</td>\n",
       "    </tr>\n",
       "    <tr>\n",
       "      <th>97</th>\n",
       "      <td>97</td>\n",
       "      <td>UC3M1LDs2tSg0Gy3iCqMLGRg</td>\n",
       "      <td>Nöron Mühendislik</td>\n",
       "      <td>qomNziismeI</td>\n",
       "      <td>2016-01-21T16:33:41.000Z</td>\n",
       "      <td>Micro Dosing System 01 (Hassas Dozajlama Siste...</td>\n",
       "      <td>www.noronmuhendislik.com micro mikro dozajlama...</td>\n",
       "      <td>28</td>\n",
       "      <td>Science &amp; Technology</td>\n",
       "      <td>PT1M3S</td>\n",
       "      <td>63</td>\n",
       "      <td>hd</td>\n",
       "      <td>False</td>\n",
       "      <td>356</td>\n",
       "      <td>1.0</td>\n",
       "      <td>0.0</td>\n",
       "      <td>0.0</td>\n",
       "      <td>2016</td>\n",
       "      <td>01</td>\n",
       "      <td>21</td>\n",
       "    </tr>\n",
       "    <tr>\n",
       "      <th>8</th>\n",
       "      <td>8</td>\n",
       "      <td>UC2nzGL6I-SRc_gkBLWLDVWg</td>\n",
       "      <td>ellie pipkins</td>\n",
       "      <td>akZrftACY1I</td>\n",
       "      <td>2016-06-04T12:39:29.000Z</td>\n",
       "      <td>LSD: Microdosing &amp; the SUPERNATURAL</td>\n",
       "      <td>a original. If you would like to support this ...</td>\n",
       "      <td>22</td>\n",
       "      <td>People &amp; Blogs</td>\n",
       "      <td>PT13M32S</td>\n",
       "      <td>812</td>\n",
       "      <td>hd</td>\n",
       "      <td>False</td>\n",
       "      <td>2</td>\n",
       "      <td>0.0</td>\n",
       "      <td>0.0</td>\n",
       "      <td>0.0</td>\n",
       "      <td>2016</td>\n",
       "      <td>06</td>\n",
       "      <td>04</td>\n",
       "    </tr>\n",
       "    <tr>\n",
       "      <th>64</th>\n",
       "      <td>64</td>\n",
       "      <td>UCfBmmf1OpYLL7JrD2ExMQLA</td>\n",
       "      <td>VIZAKIS MODALITY</td>\n",
       "      <td>tvtzuL45dbc</td>\n",
       "      <td>2016-04-11T05:16:48.000Z</td>\n",
       "      <td>Psychedelic Micro dosing and Weight Training</td>\n",
       "      <td>Join me as I explore the world of micro dosing...</td>\n",
       "      <td>27</td>\n",
       "      <td>Education</td>\n",
       "      <td>PT2M53S</td>\n",
       "      <td>173</td>\n",
       "      <td>hd</td>\n",
       "      <td>False</td>\n",
       "      <td>263</td>\n",
       "      <td>12.0</td>\n",
       "      <td>0.0</td>\n",
       "      <td>0.0</td>\n",
       "      <td>2016</td>\n",
       "      <td>04</td>\n",
       "      <td>11</td>\n",
       "    </tr>\n",
       "    <tr>\n",
       "      <th>6</th>\n",
       "      <td>6</td>\n",
       "      <td>UCSqJniChpE6ngCRzUvNNgug</td>\n",
       "      <td>Fabian-ji Chononita</td>\n",
       "      <td>qyOW2otR1Vs</td>\n",
       "      <td>2016-05-11T20:24:46.000Z</td>\n",
       "      <td>Spagyric Microdosing: An Alchemical Approach t...</td>\n",
       "      <td>Spagyric Microdosing: An Alchemical Approach t...</td>\n",
       "      <td>22</td>\n",
       "      <td>People &amp; Blogs</td>\n",
       "      <td>PT16M15S</td>\n",
       "      <td>975</td>\n",
       "      <td>hd</td>\n",
       "      <td>False</td>\n",
       "      <td>793</td>\n",
       "      <td>28.0</td>\n",
       "      <td>0.0</td>\n",
       "      <td>3.0</td>\n",
       "      <td>2016</td>\n",
       "      <td>05</td>\n",
       "      <td>11</td>\n",
       "    </tr>\n",
       "    <tr>\n",
       "      <th>103</th>\n",
       "      <td>103</td>\n",
       "      <td>UC3M1LDs2tSg0Gy3iCqMLGRg</td>\n",
       "      <td>Nöron Mühendislik</td>\n",
       "      <td>q5TX-aTB4hY</td>\n",
       "      <td>2016-02-29T23:27:49.000Z</td>\n",
       "      <td>Micro Dosing System 04 (PLC Kontrollü) (Hassas...</td>\n",
       "      <td>http://www.noronmuhendislik.com/tr/urunlerimiz...</td>\n",
       "      <td>28</td>\n",
       "      <td>Science &amp; Technology</td>\n",
       "      <td>PT48S</td>\n",
       "      <td>48</td>\n",
       "      <td>hd</td>\n",
       "      <td>False</td>\n",
       "      <td>298</td>\n",
       "      <td>0.0</td>\n",
       "      <td>0.0</td>\n",
       "      <td>1.0</td>\n",
       "      <td>2016</td>\n",
       "      <td>02</td>\n",
       "      <td>29</td>\n",
       "    </tr>\n",
       "    <tr>\n",
       "      <th>40</th>\n",
       "      <td>40</td>\n",
       "      <td>UCISZQaV44OrgDBRbeDrCXYQ</td>\n",
       "      <td>WordsReality</td>\n",
       "      <td>L7KzrNqgUcA</td>\n",
       "      <td>2016-04-11T03:52:01.000Z</td>\n",
       "      <td>Micro dosing Mushrooms and WARNING before taki...</td>\n",
       "      <td>Talk about micro dosing psilocybin mushrooms, ...</td>\n",
       "      <td>22</td>\n",
       "      <td>People &amp; Blogs</td>\n",
       "      <td>PT5M13S</td>\n",
       "      <td>313</td>\n",
       "      <td>hd</td>\n",
       "      <td>False</td>\n",
       "      <td>132</td>\n",
       "      <td>2.0</td>\n",
       "      <td>0.0</td>\n",
       "      <td>2.0</td>\n",
       "      <td>2016</td>\n",
       "      <td>04</td>\n",
       "      <td>11</td>\n",
       "    </tr>\n",
       "    <tr>\n",
       "      <th>3</th>\n",
       "      <td>3</td>\n",
       "      <td>UCgbWWPn3VYYzxjffZbfj9GQ</td>\n",
       "      <td>Alan Springwind</td>\n",
       "      <td>cng_ZhQf8iY</td>\n",
       "      <td>2016-01-25T04:48:22.000Z</td>\n",
       "      <td>Microdosing Away The Same Old Blues</td>\n",
       "      <td>Source: https://www.spreaker.com/user/springwi...</td>\n",
       "      <td>24</td>\n",
       "      <td>Entertainment</td>\n",
       "      <td>PT32M21S</td>\n",
       "      <td>1941</td>\n",
       "      <td>hd</td>\n",
       "      <td>False</td>\n",
       "      <td>4</td>\n",
       "      <td>0.0</td>\n",
       "      <td>0.0</td>\n",
       "      <td>0.0</td>\n",
       "      <td>2016</td>\n",
       "      <td>01</td>\n",
       "      <td>25</td>\n",
       "    </tr>\n",
       "    <tr>\n",
       "      <th>109</th>\n",
       "      <td>109</td>\n",
       "      <td>UCI-jLIlZKXHCZApl3VvWfgQ</td>\n",
       "      <td>The Awakened Brave!</td>\n",
       "      <td>PXTpG_FV248</td>\n",
       "      <td>2016-03-07T16:34:30.000Z</td>\n",
       "      <td>Shroom Experiment, Micro dosing, Day 7.</td>\n",
       "      <td>Having a little fun :-) here.</td>\n",
       "      <td>22</td>\n",
       "      <td>People &amp; Blogs</td>\n",
       "      <td>PT27S</td>\n",
       "      <td>27</td>\n",
       "      <td>hd</td>\n",
       "      <td>False</td>\n",
       "      <td>650</td>\n",
       "      <td>28.0</td>\n",
       "      <td>1.0</td>\n",
       "      <td>20.0</td>\n",
       "      <td>2016</td>\n",
       "      <td>03</td>\n",
       "      <td>07</td>\n",
       "    </tr>\n",
       "    <tr>\n",
       "      <th>110</th>\n",
       "      <td>110</td>\n",
       "      <td>UCjnXuO6mfE0-czvcbOYnpbQ</td>\n",
       "      <td>Ayahuasca Magic</td>\n",
       "      <td>j9HFlDff2XY</td>\n",
       "      <td>2016-03-25T04:58:34.000Z</td>\n",
       "      <td>Time differentials: mystery wisdom and microdo...</td>\n",
       "      <td>The lectures I talk about are free (some of th...</td>\n",
       "      <td>24</td>\n",
       "      <td>Entertainment</td>\n",
       "      <td>PT26M</td>\n",
       "      <td>26</td>\n",
       "      <td>hd</td>\n",
       "      <td>False</td>\n",
       "      <td>304</td>\n",
       "      <td>6.0</td>\n",
       "      <td>0.0</td>\n",
       "      <td>22.0</td>\n",
       "      <td>2016</td>\n",
       "      <td>03</td>\n",
       "      <td>25</td>\n",
       "    </tr>\n",
       "    <tr>\n",
       "      <th>2</th>\n",
       "      <td>2</td>\n",
       "      <td>UCihqrkaOgVMfLNo2W1hSliA</td>\n",
       "      <td>Podcast Bunk</td>\n",
       "      <td>IuyuZfWtGgg</td>\n",
       "      <td>2016-05-01T05:33:13.000Z</td>\n",
       "      <td>#325 Microdosing from The Adam and Dr Drew Sho...</td>\n",
       "      <td>Adam and Dr. Drew are solo today and they open...</td>\n",
       "      <td>22</td>\n",
       "      <td>People &amp; Blogs</td>\n",
       "      <td>PT50M40S</td>\n",
       "      <td>3040</td>\n",
       "      <td>sd</td>\n",
       "      <td>False</td>\n",
       "      <td>67</td>\n",
       "      <td>0.0</td>\n",
       "      <td>1.0</td>\n",
       "      <td>3.0</td>\n",
       "      <td>2016</td>\n",
       "      <td>05</td>\n",
       "      <td>01</td>\n",
       "    </tr>\n",
       "    <tr>\n",
       "      <th>38</th>\n",
       "      <td>38</td>\n",
       "      <td>UC6kFuQCLBFJnIzzhC5cysaA</td>\n",
       "      <td>The Natural Way of Healing</td>\n",
       "      <td>kn5k_THCM8Y</td>\n",
       "      <td>2016-05-07T14:13:22.000Z</td>\n",
       "      <td>MICRODOSING 101! Step By Step To Microdosing P...</td>\n",
       "      <td>Microdosing Psilocybin Mushrooms can be a very...</td>\n",
       "      <td>22</td>\n",
       "      <td>People &amp; Blogs</td>\n",
       "      <td>PT5M45S</td>\n",
       "      <td>345</td>\n",
       "      <td>hd</td>\n",
       "      <td>False</td>\n",
       "      <td>1770</td>\n",
       "      <td>100.0</td>\n",
       "      <td>1.0</td>\n",
       "      <td>49.0</td>\n",
       "      <td>2016</td>\n",
       "      <td>05</td>\n",
       "      <td>07</td>\n",
       "    </tr>\n",
       "    <tr>\n",
       "      <th>7</th>\n",
       "      <td>7</td>\n",
       "      <td>UCmrLCXSDScliR7q8AxxjvXg</td>\n",
       "      <td>Black Pigeon Speaks</td>\n",
       "      <td>4ekkXrfmPM8</td>\n",
       "      <td>2016-04-23T09:27:30.000Z</td>\n",
       "      <td>LSD: Microdosing &amp; the SUPERNATURAL</td>\n",
       "      <td>a http://vidmax.com/ original. If you would li...</td>\n",
       "      <td>25</td>\n",
       "      <td>News &amp; Politics</td>\n",
       "      <td>PT13M40S</td>\n",
       "      <td>820</td>\n",
       "      <td>hd</td>\n",
       "      <td>False</td>\n",
       "      <td>108974</td>\n",
       "      <td>4329.0</td>\n",
       "      <td>990.0</td>\n",
       "      <td>3672.0</td>\n",
       "      <td>2016</td>\n",
       "      <td>04</td>\n",
       "      <td>23</td>\n",
       "    </tr>\n",
       "    <tr>\n",
       "      <th>43</th>\n",
       "      <td>43</td>\n",
       "      <td>UCyPSHKvZDBwmGtQxaF9Hg7A</td>\n",
       "      <td>trippyshore</td>\n",
       "      <td>fozheOarVWM</td>\n",
       "      <td>2016-04-20T07:34:33.000Z</td>\n",
       "      <td>Microdosing</td>\n",
       "      <td>Be responsible with hallucinogens. Please sub ...</td>\n",
       "      <td>22</td>\n",
       "      <td>People &amp; Blogs</td>\n",
       "      <td>PT4M56S</td>\n",
       "      <td>296</td>\n",
       "      <td>hd</td>\n",
       "      <td>False</td>\n",
       "      <td>905</td>\n",
       "      <td>44.0</td>\n",
       "      <td>1.0</td>\n",
       "      <td>14.0</td>\n",
       "      <td>2016</td>\n",
       "      <td>04</td>\n",
       "      <td>20</td>\n",
       "    </tr>\n",
       "    <tr>\n",
       "      <th>89</th>\n",
       "      <td>89</td>\n",
       "      <td>UC3M1LDs2tSg0Gy3iCqMLGRg</td>\n",
       "      <td>Nöron Mühendislik</td>\n",
       "      <td>xZea2BJLEkY</td>\n",
       "      <td>2016-01-26T14:08:28.000Z</td>\n",
       "      <td>Micro Dosing System 03 (tea) (Hassas Dozajlama...</td>\n",
       "      <td>Micro Dosing System 03 (tea) (Hassas Dozajlama...</td>\n",
       "      <td>28</td>\n",
       "      <td>Science &amp; Technology</td>\n",
       "      <td>PT1M15S</td>\n",
       "      <td>75</td>\n",
       "      <td>hd</td>\n",
       "      <td>False</td>\n",
       "      <td>197</td>\n",
       "      <td>0.0</td>\n",
       "      <td>0.0</td>\n",
       "      <td>0.0</td>\n",
       "      <td>2016</td>\n",
       "      <td>01</td>\n",
       "      <td>26</td>\n",
       "    </tr>\n",
       "    <tr>\n",
       "      <th>50</th>\n",
       "      <td>50</td>\n",
       "      <td>UCxw4-gbOtqRLdh9C3Ne-XAw</td>\n",
       "      <td>E-PAK Machinery, Inc.</td>\n",
       "      <td>b0RDMUgn_3E</td>\n",
       "      <td>2016-06-03T20:28:37.000Z</td>\n",
       "      <td>Fully Automatic Micro Dosing Piston Filler for...</td>\n",
       "      <td>8 Head Fully Automatic Micro Dosing Piston Fil...</td>\n",
       "      <td>28</td>\n",
       "      <td>Science &amp; Technology</td>\n",
       "      <td>PT4M17S</td>\n",
       "      <td>257</td>\n",
       "      <td>hd</td>\n",
       "      <td>False</td>\n",
       "      <td>11</td>\n",
       "      <td>NaN</td>\n",
       "      <td>NaN</td>\n",
       "      <td>0.0</td>\n",
       "      <td>2016</td>\n",
       "      <td>06</td>\n",
       "      <td>03</td>\n",
       "    </tr>\n",
       "    <tr>\n",
       "      <th>59</th>\n",
       "      <td>59</td>\n",
       "      <td>UC9B2G9dYd4dIbQtyy9SczAQ</td>\n",
       "      <td>David Zobrist</td>\n",
       "      <td>iTmjf4fPpeo</td>\n",
       "      <td>2016-02-17T09:52:11.000Z</td>\n",
       "      <td>Microdosing Magic Mushroom 0.1g Experience</td>\n",
       "      <td>This video reflects my personal experience wit...</td>\n",
       "      <td>20</td>\n",
       "      <td>Gaming</td>\n",
       "      <td>PT3M15S</td>\n",
       "      <td>195</td>\n",
       "      <td>hd</td>\n",
       "      <td>False</td>\n",
       "      <td>1851</td>\n",
       "      <td>17.0</td>\n",
       "      <td>1.0</td>\n",
       "      <td>3.0</td>\n",
       "      <td>2016</td>\n",
       "      <td>02</td>\n",
       "      <td>17</td>\n",
       "    </tr>\n",
       "    <tr>\n",
       "      <th>69</th>\n",
       "      <td>69</td>\n",
       "      <td>UC5Prm8XLT2VgdEL3iOn-BOA</td>\n",
       "      <td>VFFSItaly</td>\n",
       "      <td>oMeECK_PH4E</td>\n",
       "      <td>2016-03-01T09:55:00.000Z</td>\n",
       "      <td>TECHNO D - Packaging machine for micro dosing</td>\n",
       "      <td>Automatic packaging plant for micro dosing (40...</td>\n",
       "      <td>28</td>\n",
       "      <td>Science &amp; Technology</td>\n",
       "      <td>PT2M39S</td>\n",
       "      <td>159</td>\n",
       "      <td>sd</td>\n",
       "      <td>False</td>\n",
       "      <td>120</td>\n",
       "      <td>NaN</td>\n",
       "      <td>NaN</td>\n",
       "      <td>NaN</td>\n",
       "      <td>2016</td>\n",
       "      <td>03</td>\n",
       "      <td>01</td>\n",
       "    </tr>\n",
       "    <tr>\n",
       "      <th>26</th>\n",
       "      <td>26</td>\n",
       "      <td>UCeZ7WEtJh2aY75gd31A0_-Q</td>\n",
       "      <td>Psychoactive Society</td>\n",
       "      <td>mIViHhMcRH0</td>\n",
       "      <td>2016-02-10T12:11:29.000Z</td>\n",
       "      <td>MicroDosing Psilocybin! Improving Overall We'l...</td>\n",
       "      <td>This video I'm going to go into the topics of ...</td>\n",
       "      <td>22</td>\n",
       "      <td>People &amp; Blogs</td>\n",
       "      <td>PT8M13S</td>\n",
       "      <td>493</td>\n",
       "      <td>hd</td>\n",
       "      <td>False</td>\n",
       "      <td>447</td>\n",
       "      <td>14.0</td>\n",
       "      <td>1.0</td>\n",
       "      <td>4.0</td>\n",
       "      <td>2016</td>\n",
       "      <td>02</td>\n",
       "      <td>10</td>\n",
       "    </tr>\n",
       "    <tr>\n",
       "      <th>22</th>\n",
       "      <td>22</td>\n",
       "      <td>UC6kFuQCLBFJnIzzhC5cysaA</td>\n",
       "      <td>The Natural Way of Healing</td>\n",
       "      <td>pvjYMuKnf3E</td>\n",
       "      <td>2016-03-05T15:21:34.000Z</td>\n",
       "      <td>MICRODOSING CANNABIS! Benefits of Cannabis!</td>\n",
       "      <td>Website! http://thenaturalwayofhealing.com Blo...</td>\n",
       "      <td>24</td>\n",
       "      <td>Entertainment</td>\n",
       "      <td>PT8M31S</td>\n",
       "      <td>511</td>\n",
       "      <td>hd</td>\n",
       "      <td>False</td>\n",
       "      <td>2322</td>\n",
       "      <td>142.0</td>\n",
       "      <td>2.0</td>\n",
       "      <td>61.0</td>\n",
       "      <td>2016</td>\n",
       "      <td>03</td>\n",
       "      <td>05</td>\n",
       "    </tr>\n",
       "    <tr>\n",
       "      <th>113</th>\n",
       "      <td>113</td>\n",
       "      <td>UC281yIVp-U8Ijg4KUVRgDRA</td>\n",
       "      <td>Osiron X</td>\n",
       "      <td>fMlQoGINGHo</td>\n",
       "      <td>2016-04-15T19:31:48.000Z</td>\n",
       "      <td>Psilocybin Mushroom Micro-Dosing</td>\n",
       "      <td>When too much time lapses between trips, the e...</td>\n",
       "      <td>24</td>\n",
       "      <td>Entertainment</td>\n",
       "      <td>PT11M</td>\n",
       "      <td>11</td>\n",
       "      <td>sd</td>\n",
       "      <td>False</td>\n",
       "      <td>341</td>\n",
       "      <td>11.0</td>\n",
       "      <td>1.0</td>\n",
       "      <td>10.0</td>\n",
       "      <td>2016</td>\n",
       "      <td>04</td>\n",
       "      <td>15</td>\n",
       "    </tr>\n",
       "    <tr>\n",
       "      <th>21</th>\n",
       "      <td>21</td>\n",
       "      <td>UCewQJkBg5UT2Q2qXNmeUmHQ</td>\n",
       "      <td>MicroLife</td>\n",
       "      <td>JvfBbCsZOmw</td>\n",
       "      <td>2016-04-22T21:02:08.000Z</td>\n",
       "      <td>What Is Microdosing?</td>\n",
       "      <td>What microdosing is and how to do it. PsychedS...</td>\n",
       "      <td>10</td>\n",
       "      <td>Music</td>\n",
       "      <td>PT8M53S</td>\n",
       "      <td>533</td>\n",
       "      <td>hd</td>\n",
       "      <td>False</td>\n",
       "      <td>90</td>\n",
       "      <td>6.0</td>\n",
       "      <td>0.0</td>\n",
       "      <td>1.0</td>\n",
       "      <td>2016</td>\n",
       "      <td>04</td>\n",
       "      <td>22</td>\n",
       "    </tr>\n",
       "    <tr>\n",
       "      <th>74</th>\n",
       "      <td>74</td>\n",
       "      <td>UCGcF4QHx-bUGNT7nIo-cxDQ</td>\n",
       "      <td>Motion Brand</td>\n",
       "      <td>DwDowxM5HLI</td>\n",
       "      <td>2016-05-20T10:16:37.000Z</td>\n",
       "      <td>Jesma Microdosing</td>\n",
       "      <td>NaN</td>\n",
       "      <td>22</td>\n",
       "      <td>People &amp; Blogs</td>\n",
       "      <td>PT2M21S</td>\n",
       "      <td>141</td>\n",
       "      <td>hd</td>\n",
       "      <td>False</td>\n",
       "      <td>3</td>\n",
       "      <td>0.0</td>\n",
       "      <td>0.0</td>\n",
       "      <td>0.0</td>\n",
       "      <td>2016</td>\n",
       "      <td>05</td>\n",
       "      <td>20</td>\n",
       "    </tr>\n",
       "    <tr>\n",
       "      <th>36</th>\n",
       "      <td>36</td>\n",
       "      <td>UC7wOvqC3gyy45Eevq-ZSokw</td>\n",
       "      <td>jayurbzz</td>\n",
       "      <td>GpCpDsPuZO4</td>\n",
       "      <td>2016-03-02T21:05:30.000Z</td>\n",
       "      <td>Microdosing LSD (2/5): Staying Present in Real...</td>\n",
       "      <td>For educational purposes: what to (kind of) ex...</td>\n",
       "      <td>19</td>\n",
       "      <td>Travel &amp; Events</td>\n",
       "      <td>PT6M17S</td>\n",
       "      <td>377</td>\n",
       "      <td>hd</td>\n",
       "      <td>False</td>\n",
       "      <td>843</td>\n",
       "      <td>8.0</td>\n",
       "      <td>0.0</td>\n",
       "      <td>12.0</td>\n",
       "      <td>2016</td>\n",
       "      <td>03</td>\n",
       "      <td>02</td>\n",
       "    </tr>\n",
       "    <tr>\n",
       "      <th>29</th>\n",
       "      <td>29</td>\n",
       "      <td>UCn8V3KNSgDr1Dai77_y8JrQ</td>\n",
       "      <td>PsychedSubstance</td>\n",
       "      <td>54pkxpLiIJc</td>\n",
       "      <td>2016-01-30T15:00:00.000Z</td>\n",
       "      <td>Mescaline Microdose</td>\n",
       "      <td>What's it like to microdose mescaline? Watch t...</td>\n",
       "      <td>24</td>\n",
       "      <td>Entertainment</td>\n",
       "      <td>PT7M45S</td>\n",
       "      <td>465</td>\n",
       "      <td>hd</td>\n",
       "      <td>False</td>\n",
       "      <td>148681</td>\n",
       "      <td>3698.0</td>\n",
       "      <td>49.0</td>\n",
       "      <td>1212.0</td>\n",
       "      <td>2016</td>\n",
       "      <td>01</td>\n",
       "      <td>30</td>\n",
       "    </tr>\n",
       "    <tr>\n",
       "      <th>56</th>\n",
       "      <td>56</td>\n",
       "      <td>UCsGuxu7vhRULX4uM5wwlWXw</td>\n",
       "      <td>Improve Humanity | Behind the Eyelids</td>\n",
       "      <td>V-dP7Scpa0c</td>\n",
       "      <td>2016-02-02T17:30:43.000Z</td>\n",
       "      <td>Marijuana &amp; Alcohol Combination - Uses - (\"Mic...</td>\n",
       "      <td>Alcohol is no psychedelic, but if you choose t...</td>\n",
       "      <td>22</td>\n",
       "      <td>People &amp; Blogs</td>\n",
       "      <td>PT3M44S</td>\n",
       "      <td>224</td>\n",
       "      <td>hd</td>\n",
       "      <td>False</td>\n",
       "      <td>256</td>\n",
       "      <td>6.0</td>\n",
       "      <td>1.0</td>\n",
       "      <td>1.0</td>\n",
       "      <td>2016</td>\n",
       "      <td>02</td>\n",
       "      <td>02</td>\n",
       "    </tr>\n",
       "    <tr>\n",
       "      <th>20</th>\n",
       "      <td>20</td>\n",
       "      <td>UCLtigEiKqmjGC8VxktMl7TQ</td>\n",
       "      <td>LamentoAbsurdo</td>\n",
       "      <td>2D3F-Ui7knU</td>\n",
       "      <td>2016-03-03T12:10:24.000Z</td>\n",
       "      <td>Exit from \"depression\" by microdosing magic mu...</td>\n",
       "      <td>I did not have any drama in my live what could...</td>\n",
       "      <td>22</td>\n",
       "      <td>People &amp; Blogs</td>\n",
       "      <td>PT9M7S</td>\n",
       "      <td>547</td>\n",
       "      <td>hd</td>\n",
       "      <td>False</td>\n",
       "      <td>609</td>\n",
       "      <td>11.0</td>\n",
       "      <td>0.0</td>\n",
       "      <td>18.0</td>\n",
       "      <td>2016</td>\n",
       "      <td>03</td>\n",
       "      <td>03</td>\n",
       "    </tr>\n",
       "    <tr>\n",
       "      <th>79</th>\n",
       "      <td>79</td>\n",
       "      <td>UCI-jLIlZKXHCZApl3VvWfgQ</td>\n",
       "      <td>The Awakened Brave!</td>\n",
       "      <td>u2tG09c5Wfw</td>\n",
       "      <td>2016-03-12T17:41:30.000Z</td>\n",
       "      <td>Shroom Experiment, Micro dosing. Day 12.</td>\n",
       "      <td>Continuing my micro dosing experience and obse...</td>\n",
       "      <td>22</td>\n",
       "      <td>People &amp; Blogs</td>\n",
       "      <td>PT1M56S</td>\n",
       "      <td>116</td>\n",
       "      <td>hd</td>\n",
       "      <td>False</td>\n",
       "      <td>243</td>\n",
       "      <td>8.0</td>\n",
       "      <td>0.0</td>\n",
       "      <td>9.0</td>\n",
       "      <td>2016</td>\n",
       "      <td>03</td>\n",
       "      <td>12</td>\n",
       "    </tr>\n",
       "    <tr>\n",
       "      <th>80</th>\n",
       "      <td>80</td>\n",
       "      <td>UCH3AiD3qk2KajBxYrHfoVIw</td>\n",
       "      <td>charles Wagstaff</td>\n",
       "      <td>bpuL6pQTboM</td>\n",
       "      <td>2016-04-18T00:30:52.000Z</td>\n",
       "      <td>Amanda Feilding on Microdosing</td>\n",
       "      <td>NaN</td>\n",
       "      <td>22</td>\n",
       "      <td>People &amp; Blogs</td>\n",
       "      <td>PT1M55S</td>\n",
       "      <td>115</td>\n",
       "      <td>sd</td>\n",
       "      <td>False</td>\n",
       "      <td>39</td>\n",
       "      <td>1.0</td>\n",
       "      <td>0.0</td>\n",
       "      <td>0.0</td>\n",
       "      <td>2016</td>\n",
       "      <td>04</td>\n",
       "      <td>18</td>\n",
       "    </tr>\n",
       "    <tr>\n",
       "      <th>19</th>\n",
       "      <td>19</td>\n",
       "      <td>UC7wOvqC3gyy45Eevq-ZSokw</td>\n",
       "      <td>jayurbzz</td>\n",
       "      <td>44cUVZ1nw1Y</td>\n",
       "      <td>2016-03-02T20:52:39.000Z</td>\n",
       "      <td>Microdosing LSD (1/5): Setting, Research, Inte...</td>\n",
       "      <td>For educational purposes only: things to consi...</td>\n",
       "      <td>29</td>\n",
       "      <td>Nonprofits &amp; Activism</td>\n",
       "      <td>PT9M29S</td>\n",
       "      <td>569</td>\n",
       "      <td>hd</td>\n",
       "      <td>False</td>\n",
       "      <td>923</td>\n",
       "      <td>16.0</td>\n",
       "      <td>1.0</td>\n",
       "      <td>11.0</td>\n",
       "      <td>2016</td>\n",
       "      <td>03</td>\n",
       "      <td>02</td>\n",
       "    </tr>\n",
       "    <tr>\n",
       "      <th>54</th>\n",
       "      <td>54</td>\n",
       "      <td>UCI-jLIlZKXHCZApl3VvWfgQ</td>\n",
       "      <td>The Awakened Brave!</td>\n",
       "      <td>PomaOJZaq8s</td>\n",
       "      <td>2016-03-02T16:59:15.000Z</td>\n",
       "      <td>Shroom Experiment. Micro dosing, Day 2.</td>\n",
       "      <td>Here I update my progress on my continuous shr...</td>\n",
       "      <td>22</td>\n",
       "      <td>People &amp; Blogs</td>\n",
       "      <td>PT3M45S</td>\n",
       "      <td>225</td>\n",
       "      <td>hd</td>\n",
       "      <td>False</td>\n",
       "      <td>370</td>\n",
       "      <td>28.0</td>\n",
       "      <td>1.0</td>\n",
       "      <td>41.0</td>\n",
       "      <td>2016</td>\n",
       "      <td>03</td>\n",
       "      <td>02</td>\n",
       "    </tr>\n",
       "    <tr>\n",
       "      <th>53</th>\n",
       "      <td>53</td>\n",
       "      <td>UCF4LEacx9sDvAbEJnlaJfKQ</td>\n",
       "      <td>CBS SF Bay Area</td>\n",
       "      <td>eK-2xWFr0UA</td>\n",
       "      <td>2016-05-05T23:16:25.000Z</td>\n",
       "      <td>Micro-Dosing LSD Brings Silicon Valley Tech In...</td>\n",
       "      <td>Some Silicon Valley tech innovators, entrepren...</td>\n",
       "      <td>25</td>\n",
       "      <td>News &amp; Politics</td>\n",
       "      <td>PT3M49S</td>\n",
       "      <td>229</td>\n",
       "      <td>hd</td>\n",
       "      <td>True</td>\n",
       "      <td>200</td>\n",
       "      <td>5.0</td>\n",
       "      <td>0.0</td>\n",
       "      <td>0.0</td>\n",
       "      <td>2016</td>\n",
       "      <td>05</td>\n",
       "      <td>05</td>\n",
       "    </tr>\n",
       "    <tr>\n",
       "      <th>85</th>\n",
       "      <td>85</td>\n",
       "      <td>UCI-jLIlZKXHCZApl3VvWfgQ</td>\n",
       "      <td>The Awakened Brave!</td>\n",
       "      <td>qGor28LonjY</td>\n",
       "      <td>2016-03-10T18:48:11.000Z</td>\n",
       "      <td>Shroom Experiment, Micro dosing, Day 10. Psilo...</td>\n",
       "      <td>Furthering my Micro dosing experience coupled ...</td>\n",
       "      <td>22</td>\n",
       "      <td>People &amp; Blogs</td>\n",
       "      <td>PT1M36S</td>\n",
       "      <td>96</td>\n",
       "      <td>hd</td>\n",
       "      <td>False</td>\n",
       "      <td>569</td>\n",
       "      <td>20.0</td>\n",
       "      <td>0.0</td>\n",
       "      <td>12.0</td>\n",
       "      <td>2016</td>\n",
       "      <td>03</td>\n",
       "      <td>10</td>\n",
       "    </tr>\n",
       "    <tr>\n",
       "      <th>51</th>\n",
       "      <td>51</td>\n",
       "      <td>UCafWkijltITY62ecvVF7ykw</td>\n",
       "      <td>SHAPE (PTY) LTD CLINIC</td>\n",
       "      <td>g_mr59_rpJc</td>\n",
       "      <td>2016-03-01T09:05:47.000Z</td>\n",
       "      <td>Micro-dosing of Anabolics / Testosterones</td>\n",
       "      <td>Daily Micro-dosing of Testosterones is becomin...</td>\n",
       "      <td>22</td>\n",
       "      <td>People &amp; Blogs</td>\n",
       "      <td>PT3M51S</td>\n",
       "      <td>231</td>\n",
       "      <td>hd</td>\n",
       "      <td>False</td>\n",
       "      <td>109</td>\n",
       "      <td>0.0</td>\n",
       "      <td>1.0</td>\n",
       "      <td>0.0</td>\n",
       "      <td>2016</td>\n",
       "      <td>03</td>\n",
       "      <td>01</td>\n",
       "    </tr>\n",
       "    <tr>\n",
       "      <th>77</th>\n",
       "      <td>77</td>\n",
       "      <td>UCI-jLIlZKXHCZApl3VvWfgQ</td>\n",
       "      <td>The Awakened Brave!</td>\n",
       "      <td>nOX80zQnoGI</td>\n",
       "      <td>2016-03-06T16:54:09.000Z</td>\n",
       "      <td>Shroom Experiment, Micro dosing. Day 6.</td>\n",
       "      <td>An update with how I'm feeling on a continuous...</td>\n",
       "      <td>22</td>\n",
       "      <td>People &amp; Blogs</td>\n",
       "      <td>PT2M14S</td>\n",
       "      <td>134</td>\n",
       "      <td>hd</td>\n",
       "      <td>False</td>\n",
       "      <td>759</td>\n",
       "      <td>27.0</td>\n",
       "      <td>0.0</td>\n",
       "      <td>27.0</td>\n",
       "      <td>2016</td>\n",
       "      <td>03</td>\n",
       "      <td>06</td>\n",
       "    </tr>\n",
       "    <tr>\n",
       "      <th>75</th>\n",
       "      <td>75</td>\n",
       "      <td>UCI-jLIlZKXHCZApl3VvWfgQ</td>\n",
       "      <td>The Awakened Brave!</td>\n",
       "      <td>b5l_TSpBDa8</td>\n",
       "      <td>2016-03-03T18:02:05.000Z</td>\n",
       "      <td>Shroom Experiment, Micro dosing, Day 3.</td>\n",
       "      <td>Updating my daily experience whilst micro dosi...</td>\n",
       "      <td>22</td>\n",
       "      <td>People &amp; Blogs</td>\n",
       "      <td>PT2M18S</td>\n",
       "      <td>138</td>\n",
       "      <td>hd</td>\n",
       "      <td>False</td>\n",
       "      <td>1196</td>\n",
       "      <td>31.0</td>\n",
       "      <td>1.0</td>\n",
       "      <td>27.0</td>\n",
       "      <td>2016</td>\n",
       "      <td>03</td>\n",
       "      <td>03</td>\n",
       "    </tr>\n",
       "  </tbody>\n",
       "</table>\n",
       "</div>"
      ],
      "text/plain": [
       "     Unnamed: 0                 channelId  \\\n",
       "45           45  UCm6dPJ_2VwvfB1c873IUMHg   \n",
       "98           98  UC3M1LDs2tSg0Gy3iCqMLGRg   \n",
       "96           96  UC3M1LDs2tSg0Gy3iCqMLGRg   \n",
       "97           97  UC3M1LDs2tSg0Gy3iCqMLGRg   \n",
       "8             8  UC2nzGL6I-SRc_gkBLWLDVWg   \n",
       "64           64  UCfBmmf1OpYLL7JrD2ExMQLA   \n",
       "6             6  UCSqJniChpE6ngCRzUvNNgug   \n",
       "103         103  UC3M1LDs2tSg0Gy3iCqMLGRg   \n",
       "40           40  UCISZQaV44OrgDBRbeDrCXYQ   \n",
       "3             3  UCgbWWPn3VYYzxjffZbfj9GQ   \n",
       "109         109  UCI-jLIlZKXHCZApl3VvWfgQ   \n",
       "110         110  UCjnXuO6mfE0-czvcbOYnpbQ   \n",
       "2             2  UCihqrkaOgVMfLNo2W1hSliA   \n",
       "38           38  UC6kFuQCLBFJnIzzhC5cysaA   \n",
       "7             7  UCmrLCXSDScliR7q8AxxjvXg   \n",
       "43           43  UCyPSHKvZDBwmGtQxaF9Hg7A   \n",
       "89           89  UC3M1LDs2tSg0Gy3iCqMLGRg   \n",
       "50           50  UCxw4-gbOtqRLdh9C3Ne-XAw   \n",
       "59           59  UC9B2G9dYd4dIbQtyy9SczAQ   \n",
       "69           69  UC5Prm8XLT2VgdEL3iOn-BOA   \n",
       "26           26  UCeZ7WEtJh2aY75gd31A0_-Q   \n",
       "22           22  UC6kFuQCLBFJnIzzhC5cysaA   \n",
       "113         113  UC281yIVp-U8Ijg4KUVRgDRA   \n",
       "21           21  UCewQJkBg5UT2Q2qXNmeUmHQ   \n",
       "74           74  UCGcF4QHx-bUGNT7nIo-cxDQ   \n",
       "36           36  UC7wOvqC3gyy45Eevq-ZSokw   \n",
       "29           29  UCn8V3KNSgDr1Dai77_y8JrQ   \n",
       "56           56  UCsGuxu7vhRULX4uM5wwlWXw   \n",
       "20           20  UCLtigEiKqmjGC8VxktMl7TQ   \n",
       "79           79  UCI-jLIlZKXHCZApl3VvWfgQ   \n",
       "80           80  UCH3AiD3qk2KajBxYrHfoVIw   \n",
       "19           19  UC7wOvqC3gyy45Eevq-ZSokw   \n",
       "54           54  UCI-jLIlZKXHCZApl3VvWfgQ   \n",
       "53           53  UCF4LEacx9sDvAbEJnlaJfKQ   \n",
       "85           85  UCI-jLIlZKXHCZApl3VvWfgQ   \n",
       "51           51  UCafWkijltITY62ecvVF7ykw   \n",
       "77           77  UCI-jLIlZKXHCZApl3VvWfgQ   \n",
       "75           75  UCI-jLIlZKXHCZApl3VvWfgQ   \n",
       "\n",
       "                              channelTitle      videoId  \\\n",
       "45                        Luna Sky Diamond  i4OiWEhPP6g   \n",
       "98                       Nöron Mühendislik  xaBXBLRnCyI   \n",
       "96                       Nöron Mühendislik  _s03zFqdM2o   \n",
       "97                       Nöron Mühendislik  qomNziismeI   \n",
       "8                            ellie pipkins  akZrftACY1I   \n",
       "64                        VIZAKIS MODALITY  tvtzuL45dbc   \n",
       "6                      Fabian-ji Chononita  qyOW2otR1Vs   \n",
       "103                      Nöron Mühendislik  q5TX-aTB4hY   \n",
       "40                            WordsReality  L7KzrNqgUcA   \n",
       "3                          Alan Springwind  cng_ZhQf8iY   \n",
       "109                    The Awakened Brave!  PXTpG_FV248   \n",
       "110                        Ayahuasca Magic  j9HFlDff2XY   \n",
       "2                             Podcast Bunk  IuyuZfWtGgg   \n",
       "38              The Natural Way of Healing  kn5k_THCM8Y   \n",
       "7                      Black Pigeon Speaks  4ekkXrfmPM8   \n",
       "43                             trippyshore  fozheOarVWM   \n",
       "89                       Nöron Mühendislik  xZea2BJLEkY   \n",
       "50                   E-PAK Machinery, Inc.  b0RDMUgn_3E   \n",
       "59                           David Zobrist  iTmjf4fPpeo   \n",
       "69                               VFFSItaly  oMeECK_PH4E   \n",
       "26                    Psychoactive Society  mIViHhMcRH0   \n",
       "22              The Natural Way of Healing  pvjYMuKnf3E   \n",
       "113                               Osiron X  fMlQoGINGHo   \n",
       "21                               MicroLife  JvfBbCsZOmw   \n",
       "74                            Motion Brand  DwDowxM5HLI   \n",
       "36                                jayurbzz  GpCpDsPuZO4   \n",
       "29                        PsychedSubstance  54pkxpLiIJc   \n",
       "56   Improve Humanity | Behind the Eyelids  V-dP7Scpa0c   \n",
       "20                          LamentoAbsurdo  2D3F-Ui7knU   \n",
       "79                     The Awakened Brave!  u2tG09c5Wfw   \n",
       "80                        charles Wagstaff  bpuL6pQTboM   \n",
       "19                                jayurbzz  44cUVZ1nw1Y   \n",
       "54                     The Awakened Brave!  PomaOJZaq8s   \n",
       "53                         CBS SF Bay Area  eK-2xWFr0UA   \n",
       "85                     The Awakened Brave!  qGor28LonjY   \n",
       "51                  SHAPE (PTY) LTD CLINIC  g_mr59_rpJc   \n",
       "77                     The Awakened Brave!  nOX80zQnoGI   \n",
       "75                     The Awakened Brave!  b5l_TSpBDa8   \n",
       "\n",
       "                  publishedAt  \\\n",
       "45   2016-04-17T00:44:15.000Z   \n",
       "98   2016-01-26T22:16:07.000Z   \n",
       "96   2016-01-21T17:53:45.000Z   \n",
       "97   2016-01-21T16:33:41.000Z   \n",
       "8    2016-06-04T12:39:29.000Z   \n",
       "64   2016-04-11T05:16:48.000Z   \n",
       "6    2016-05-11T20:24:46.000Z   \n",
       "103  2016-02-29T23:27:49.000Z   \n",
       "40   2016-04-11T03:52:01.000Z   \n",
       "3    2016-01-25T04:48:22.000Z   \n",
       "109  2016-03-07T16:34:30.000Z   \n",
       "110  2016-03-25T04:58:34.000Z   \n",
       "2    2016-05-01T05:33:13.000Z   \n",
       "38   2016-05-07T14:13:22.000Z   \n",
       "7    2016-04-23T09:27:30.000Z   \n",
       "43   2016-04-20T07:34:33.000Z   \n",
       "89   2016-01-26T14:08:28.000Z   \n",
       "50   2016-06-03T20:28:37.000Z   \n",
       "59   2016-02-17T09:52:11.000Z   \n",
       "69   2016-03-01T09:55:00.000Z   \n",
       "26   2016-02-10T12:11:29.000Z   \n",
       "22   2016-03-05T15:21:34.000Z   \n",
       "113  2016-04-15T19:31:48.000Z   \n",
       "21   2016-04-22T21:02:08.000Z   \n",
       "74   2016-05-20T10:16:37.000Z   \n",
       "36   2016-03-02T21:05:30.000Z   \n",
       "29   2016-01-30T15:00:00.000Z   \n",
       "56   2016-02-02T17:30:43.000Z   \n",
       "20   2016-03-03T12:10:24.000Z   \n",
       "79   2016-03-12T17:41:30.000Z   \n",
       "80   2016-04-18T00:30:52.000Z   \n",
       "19   2016-03-02T20:52:39.000Z   \n",
       "54   2016-03-02T16:59:15.000Z   \n",
       "53   2016-05-05T23:16:25.000Z   \n",
       "85   2016-03-10T18:48:11.000Z   \n",
       "51   2016-03-01T09:05:47.000Z   \n",
       "77   2016-03-06T16:54:09.000Z   \n",
       "75   2016-03-03T18:02:05.000Z   \n",
       "\n",
       "                                            videoTitle  \\\n",
       "45        Become your Own Guru by micro-dosing on LSD!   \n",
       "98   Micro Dosing System 05 (farina) (Hassas Dozajl...   \n",
       "96   Micro Dosing System 02 (Hassas Dozajlama Siste...   \n",
       "97   Micro Dosing System 01 (Hassas Dozajlama Siste...   \n",
       "8                  LSD: Microdosing & the SUPERNATURAL   \n",
       "64        Psychedelic Micro dosing and Weight Training   \n",
       "6    Spagyric Microdosing: An Alchemical Approach t...   \n",
       "103  Micro Dosing System 04 (PLC Kontrollü) (Hassas...   \n",
       "40   Micro dosing Mushrooms and WARNING before taki...   \n",
       "3                  Microdosing Away The Same Old Blues   \n",
       "109            Shroom Experiment, Micro dosing, Day 7.   \n",
       "110  Time differentials: mystery wisdom and microdo...   \n",
       "2    #325 Microdosing from The Adam and Dr Drew Sho...   \n",
       "38   MICRODOSING 101! Step By Step To Microdosing P...   \n",
       "7                  LSD: Microdosing & the SUPERNATURAL   \n",
       "43                                         Microdosing   \n",
       "89   Micro Dosing System 03 (tea) (Hassas Dozajlama...   \n",
       "50   Fully Automatic Micro Dosing Piston Filler for...   \n",
       "59          Microdosing Magic Mushroom 0.1g Experience   \n",
       "69       TECHNO D - Packaging machine for micro dosing   \n",
       "26   MicroDosing Psilocybin! Improving Overall We'l...   \n",
       "22         MICRODOSING CANNABIS! Benefits of Cannabis!   \n",
       "113                   Psilocybin Mushroom Micro-Dosing   \n",
       "21                                What Is Microdosing?   \n",
       "74                                   Jesma Microdosing   \n",
       "36   Microdosing LSD (2/5): Staying Present in Real...   \n",
       "29                                 Mescaline Microdose   \n",
       "56   Marijuana & Alcohol Combination - Uses - (\"Mic...   \n",
       "20   Exit from \"depression\" by microdosing magic mu...   \n",
       "79            Shroom Experiment, Micro dosing. Day 12.   \n",
       "80                      Amanda Feilding on Microdosing   \n",
       "19   Microdosing LSD (1/5): Setting, Research, Inte...   \n",
       "54             Shroom Experiment. Micro dosing, Day 2.   \n",
       "53   Micro-Dosing LSD Brings Silicon Valley Tech In...   \n",
       "85   Shroom Experiment, Micro dosing, Day 10. Psilo...   \n",
       "51           Micro-dosing of Anabolics / Testosterones   \n",
       "77             Shroom Experiment, Micro dosing. Day 6.   \n",
       "75             Shroom Experiment, Micro dosing, Day 3.   \n",
       "\n",
       "                                      videoDescription  videoCategoryId  \\\n",
       "45   Micro-dosing on LSD, A THERAPEUTICAL APPROACH ...               22   \n",
       "98   Micro Dosing System 03 (farina) (Hassas Dozajl...               28   \n",
       "96   www.noronmuhendislik.com mısır, corn micro mik...               28   \n",
       "97   www.noronmuhendislik.com micro mikro dozajlama...               28   \n",
       "8    a original. If you would like to support this ...               22   \n",
       "64   Join me as I explore the world of micro dosing...               27   \n",
       "6    Spagyric Microdosing: An Alchemical Approach t...               22   \n",
       "103  http://www.noronmuhendislik.com/tr/urunlerimiz...               28   \n",
       "40   Talk about micro dosing psilocybin mushrooms, ...               22   \n",
       "3    Source: https://www.spreaker.com/user/springwi...               24   \n",
       "109                      Having a little fun :-) here.               22   \n",
       "110  The lectures I talk about are free (some of th...               24   \n",
       "2    Adam and Dr. Drew are solo today and they open...               22   \n",
       "38   Microdosing Psilocybin Mushrooms can be a very...               22   \n",
       "7    a http://vidmax.com/ original. If you would li...               25   \n",
       "43   Be responsible with hallucinogens. Please sub ...               22   \n",
       "89   Micro Dosing System 03 (tea) (Hassas Dozajlama...               28   \n",
       "50   8 Head Fully Automatic Micro Dosing Piston Fil...               28   \n",
       "59   This video reflects my personal experience wit...               20   \n",
       "69   Automatic packaging plant for micro dosing (40...               28   \n",
       "26   This video I'm going to go into the topics of ...               22   \n",
       "22   Website! http://thenaturalwayofhealing.com Blo...               24   \n",
       "113  When too much time lapses between trips, the e...               24   \n",
       "21   What microdosing is and how to do it. PsychedS...               10   \n",
       "74                                                 NaN               22   \n",
       "36   For educational purposes: what to (kind of) ex...               19   \n",
       "29   What's it like to microdose mescaline? Watch t...               24   \n",
       "56   Alcohol is no psychedelic, but if you choose t...               22   \n",
       "20   I did not have any drama in my live what could...               22   \n",
       "79   Continuing my micro dosing experience and obse...               22   \n",
       "80                                                 NaN               22   \n",
       "19   For educational purposes only: things to consi...               29   \n",
       "54   Here I update my progress on my continuous shr...               22   \n",
       "53   Some Silicon Valley tech innovators, entrepren...               25   \n",
       "85   Furthering my Micro dosing experience coupled ...               22   \n",
       "51   Daily Micro-dosing of Testosterones is becomin...               22   \n",
       "77   An update with how I'm feeling on a continuous...               22   \n",
       "75   Updating my daily experience whilst micro dosi...               22   \n",
       "\n",
       "        videoCategoryLabel  duration  durationSec definition  caption  \\\n",
       "45          People & Blogs   PT4M43S          283         hd    False   \n",
       "98    Science & Technology    PT1M3S           63         hd    False   \n",
       "96    Science & Technology    PT1M6S           66         hd    False   \n",
       "97    Science & Technology    PT1M3S           63         hd    False   \n",
       "8           People & Blogs  PT13M32S          812         hd    False   \n",
       "64               Education   PT2M53S          173         hd    False   \n",
       "6           People & Blogs  PT16M15S          975         hd    False   \n",
       "103   Science & Technology     PT48S           48         hd    False   \n",
       "40          People & Blogs   PT5M13S          313         hd    False   \n",
       "3            Entertainment  PT32M21S         1941         hd    False   \n",
       "109         People & Blogs     PT27S           27         hd    False   \n",
       "110          Entertainment     PT26M           26         hd    False   \n",
       "2           People & Blogs  PT50M40S         3040         sd    False   \n",
       "38          People & Blogs   PT5M45S          345         hd    False   \n",
       "7          News & Politics  PT13M40S          820         hd    False   \n",
       "43          People & Blogs   PT4M56S          296         hd    False   \n",
       "89    Science & Technology   PT1M15S           75         hd    False   \n",
       "50    Science & Technology   PT4M17S          257         hd    False   \n",
       "59                  Gaming   PT3M15S          195         hd    False   \n",
       "69    Science & Technology   PT2M39S          159         sd    False   \n",
       "26          People & Blogs   PT8M13S          493         hd    False   \n",
       "22           Entertainment   PT8M31S          511         hd    False   \n",
       "113          Entertainment     PT11M           11         sd    False   \n",
       "21                   Music   PT8M53S          533         hd    False   \n",
       "74          People & Blogs   PT2M21S          141         hd    False   \n",
       "36         Travel & Events   PT6M17S          377         hd    False   \n",
       "29           Entertainment   PT7M45S          465         hd    False   \n",
       "56          People & Blogs   PT3M44S          224         hd    False   \n",
       "20          People & Blogs    PT9M7S          547         hd    False   \n",
       "79          People & Blogs   PT1M56S          116         hd    False   \n",
       "80          People & Blogs   PT1M55S          115         sd    False   \n",
       "19   Nonprofits & Activism   PT9M29S          569         hd    False   \n",
       "54          People & Blogs   PT3M45S          225         hd    False   \n",
       "53         News & Politics   PT3M49S          229         hd     True   \n",
       "85          People & Blogs   PT1M36S           96         hd    False   \n",
       "51          People & Blogs   PT3M51S          231         hd    False   \n",
       "77          People & Blogs   PT2M14S          134         hd    False   \n",
       "75          People & Blogs   PT2M18S          138         hd    False   \n",
       "\n",
       "     viewCount  likeCount  dislikeCount  commentCount publishedAtyear  \\\n",
       "45         130        2.0           1.0           1.0            2016   \n",
       "98         209        0.0           0.0           0.0            2016   \n",
       "96         335        0.0           0.0           1.0            2016   \n",
       "97         356        1.0           0.0           0.0            2016   \n",
       "8            2        0.0           0.0           0.0            2016   \n",
       "64         263       12.0           0.0           0.0            2016   \n",
       "6          793       28.0           0.0           3.0            2016   \n",
       "103        298        0.0           0.0           1.0            2016   \n",
       "40         132        2.0           0.0           2.0            2016   \n",
       "3            4        0.0           0.0           0.0            2016   \n",
       "109        650       28.0           1.0          20.0            2016   \n",
       "110        304        6.0           0.0          22.0            2016   \n",
       "2           67        0.0           1.0           3.0            2016   \n",
       "38        1770      100.0           1.0          49.0            2016   \n",
       "7       108974     4329.0         990.0        3672.0            2016   \n",
       "43         905       44.0           1.0          14.0            2016   \n",
       "89         197        0.0           0.0           0.0            2016   \n",
       "50          11        NaN           NaN           0.0            2016   \n",
       "59        1851       17.0           1.0           3.0            2016   \n",
       "69         120        NaN           NaN           NaN            2016   \n",
       "26         447       14.0           1.0           4.0            2016   \n",
       "22        2322      142.0           2.0          61.0            2016   \n",
       "113        341       11.0           1.0          10.0            2016   \n",
       "21          90        6.0           0.0           1.0            2016   \n",
       "74           3        0.0           0.0           0.0            2016   \n",
       "36         843        8.0           0.0          12.0            2016   \n",
       "29      148681     3698.0          49.0        1212.0            2016   \n",
       "56         256        6.0           1.0           1.0            2016   \n",
       "20         609       11.0           0.0          18.0            2016   \n",
       "79         243        8.0           0.0           9.0            2016   \n",
       "80          39        1.0           0.0           0.0            2016   \n",
       "19         923       16.0           1.0          11.0            2016   \n",
       "54         370       28.0           1.0          41.0            2016   \n",
       "53         200        5.0           0.0           0.0            2016   \n",
       "85         569       20.0           0.0          12.0            2016   \n",
       "51         109        0.0           1.0           0.0            2016   \n",
       "77         759       27.0           0.0          27.0            2016   \n",
       "75        1196       31.0           1.0          27.0            2016   \n",
       "\n",
       "    publishedAtmonth publishedAtday  \n",
       "45                04             17  \n",
       "98                01             26  \n",
       "96                01             21  \n",
       "97                01             21  \n",
       "8                 06             04  \n",
       "64                04             11  \n",
       "6                 05             11  \n",
       "103               02             29  \n",
       "40                04             11  \n",
       "3                 01             25  \n",
       "109               03             07  \n",
       "110               03             25  \n",
       "2                 05             01  \n",
       "38                05             07  \n",
       "7                 04             23  \n",
       "43                04             20  \n",
       "89                01             26  \n",
       "50                06             03  \n",
       "59                02             17  \n",
       "69                03             01  \n",
       "26                02             10  \n",
       "22                03             05  \n",
       "113               04             15  \n",
       "21                04             22  \n",
       "74                05             20  \n",
       "36                03             02  \n",
       "29                01             30  \n",
       "56                02             02  \n",
       "20                03             03  \n",
       "79                03             12  \n",
       "80                04             18  \n",
       "19                03             02  \n",
       "54                03             02  \n",
       "53                05             05  \n",
       "85                03             10  \n",
       "51                03             01  \n",
       "77                03             06  \n",
       "75                03             03  "
      ]
     },
     "execution_count": 106,
     "metadata": {},
     "output_type": "execute_result"
    }
   ],
   "source": [
    "df[df['publishedAtyear']=='2016']"
   ]
  },
  {
   "cell_type": "code",
   "execution_count": 107,
   "id": "7c269e84",
   "metadata": {},
   "outputs": [
    {
     "name": "stderr",
     "output_type": "stream",
     "text": [
      "C:\\Users\\navan\\py\\lib\\site-packages\\seaborn\\_decorators.py:36: FutureWarning: Pass the following variables as keyword args: x, y. From version 0.12, the only valid positional argument will be `data`, and passing other arguments without an explicit keyword will result in an error or misinterpretation.\n",
      "  warnings.warn(\n"
     ]
    },
    {
     "data": {
      "text/plain": [
       "<AxesSubplot:xlabel='publishedAtyear', ylabel='likeCount'>"
      ]
     },
     "execution_count": 107,
     "metadata": {},
     "output_type": "execute_result"
    },
    {
     "data": {
      "image/png": "[encoded data removed]",
      "text/plain": [
       "<Figure size 864x432 with 1 Axes>"
      ]
     },
     "metadata": {
      "needs_background": "light"
     },
     "output_type": "display_data"
    }
   ],
   "source": [
    "sb.scatterplot('publishedAtyear','likeCount',data=df)"
   ]
  },
  {
   "cell_type": "code",
   "execution_count": 109,
   "id": "5e2e9be6",
   "metadata": {},
   "outputs": [
    {
     "data": {
      "text/html": [
       "<div>\n",
       "<style scoped>\n",
       "    .dataframe tbody tr th:only-of-type {\n",
       "        vertical-align: middle;\n",
       "    }\n",
       "\n",
       "    .dataframe tbody tr th {\n",
       "        vertical-align: top;\n",
       "    }\n",
       "\n",
       "    .dataframe thead th {\n",
       "        text-align: right;\n",
       "    }\n",
       "</style>\n",
       "<table border=\"1\" class=\"dataframe\">\n",
       "  <thead>\n",
       "    <tr style=\"text-align: right;\">\n",
       "      <th></th>\n",
       "      <th>Unnamed: 0</th>\n",
       "      <th>channelId</th>\n",
       "      <th>channelTitle</th>\n",
       "      <th>videoId</th>\n",
       "      <th>publishedAt</th>\n",
       "      <th>videoTitle</th>\n",
       "      <th>videoDescription</th>\n",
       "      <th>videoCategoryId</th>\n",
       "      <th>videoCategoryLabel</th>\n",
       "      <th>duration</th>\n",
       "      <th>durationSec</th>\n",
       "      <th>definition</th>\n",
       "      <th>caption</th>\n",
       "      <th>viewCount</th>\n",
       "      <th>likeCount</th>\n",
       "      <th>dislikeCount</th>\n",
       "      <th>commentCount</th>\n",
       "      <th>publishedAtyear</th>\n",
       "      <th>publishedAtmonth</th>\n",
       "      <th>publishedAtday</th>\n",
       "    </tr>\n",
       "  </thead>\n",
       "  <tbody>\n",
       "    <tr>\n",
       "      <th>49</th>\n",
       "      <td>49</td>\n",
       "      <td>UCfvKwp-BExobsDcuDfCx1hA</td>\n",
       "      <td>ICRISAT Co</td>\n",
       "      <td>c4-AB1jg3Sg</td>\n",
       "      <td>2008-12-03T07:36:27.000Z</td>\n",
       "      <td>Miracles with fertilizer microdosing</td>\n",
       "      <td>Applying small amounts of fertilizer with the ...</td>\n",
       "      <td>28</td>\n",
       "      <td>Science &amp; Technology</td>\n",
       "      <td>PT4M33S</td>\n",
       "      <td>273</td>\n",
       "      <td>sd</td>\n",
       "      <td>False</td>\n",
       "      <td>2493</td>\n",
       "      <td>5.0</td>\n",
       "      <td>0.0</td>\n",
       "      <td>3.0</td>\n",
       "      <td>2008</td>\n",
       "      <td>12</td>\n",
       "      <td>03</td>\n",
       "    </tr>\n",
       "  </tbody>\n",
       "</table>\n",
       "</div>"
      ],
      "text/plain": [
       "    Unnamed: 0                 channelId channelTitle      videoId  \\\n",
       "49          49  UCfvKwp-BExobsDcuDfCx1hA   ICRISAT Co  c4-AB1jg3Sg   \n",
       "\n",
       "                 publishedAt                            videoTitle  \\\n",
       "49  2008-12-03T07:36:27.000Z  Miracles with fertilizer microdosing   \n",
       "\n",
       "                                     videoDescription  videoCategoryId  \\\n",
       "49  Applying small amounts of fertilizer with the ...               28   \n",
       "\n",
       "      videoCategoryLabel duration  durationSec definition  caption  viewCount  \\\n",
       "49  Science & Technology  PT4M33S          273         sd    False       2493   \n",
       "\n",
       "    likeCount  dislikeCount  commentCount publishedAtyear publishedAtmonth  \\\n",
       "49        5.0           0.0           3.0            2008               12   \n",
       "\n",
       "   publishedAtday  \n",
       "49             03  "
      ]
     },
     "execution_count": 109,
     "metadata": {},
     "output_type": "execute_result"
    }
   ],
   "source": [
    "df[df['publishedAtyear']=='2008']"
   ]
  },
  {
   "cell_type": "code",
   "execution_count": 111,
   "id": "41724d0f",
   "metadata": {},
   "outputs": [
    {
     "data": {
      "text/plain": [
       "<matplotlib.collections.PathCollection at 0x179a3e3b5b0>"
      ]
     },
     "execution_count": 111,
     "metadata": {},
     "output_type": "execute_result"
    },
    {
     "data": {
      "image/png": "[encoded data removed]",
      "text/plain": [
       "<Figure size 864x432 with 1 Axes>"
      ]
     },
     "metadata": {
      "needs_background": "light"
     },
     "output_type": "display_data"
    }
   ],
   "source": [
    "pt.ylim(1,1000)\n",
    "pt.scatter('publishedAtyear','viewCount',data=df)"
   ]
  },
  {
   "cell_type": "code",
   "execution_count": null,
   "id": "563d5954",
   "metadata": {},
   "outputs": [],
   "source": []
  }
 ],
 "metadata": {
  "kernelspec": {
   "display_name": "Python 3 (ipykernel)",
   "language": "python",
   "name": "python3"
  },
  "language_info": {
   "codemirror_mode": {
    "name": "ipython",
    "version": 3
   },
   "file_extension": ".py",
   "mimetype": "text/x-python",
   "name": "python",
   "nbconvert_exporter": "python",
   "pygments_lexer": "ipython3",
   "version": "3.10.2"
  }
 },
 "nbformat": 4,
 "nbformat_minor": 5
}
